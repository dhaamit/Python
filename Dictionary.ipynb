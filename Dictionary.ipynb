{
 "cells": [
  {
   "cell_type": "code",
   "execution_count": 1,
   "id": "ccb06417",
   "metadata": {},
   "outputs": [
    {
     "data": {
      "text/plain": [
       "dict"
      ]
     },
     "execution_count": 1,
     "metadata": {},
     "output_type": "execute_result"
    }
   ],
   "source": [
    "dict1 = {\"key1\":1,\"key2\":2}\n",
    "type(dict1)"
   ]
  },
  {
   "cell_type": "code",
   "execution_count": 2,
   "id": "09328bce",
   "metadata": {},
   "outputs": [
    {
     "data": {
      "text/plain": [
       "{'key1': 1, 'key2': 2}"
      ]
     },
     "execution_count": 2,
     "metadata": {},
     "output_type": "execute_result"
    }
   ],
   "source": [
    "dict1"
   ]
  },
  {
   "cell_type": "code",
   "execution_count": 5,
   "id": "b2ee2c6d",
   "metadata": {},
   "outputs": [
    {
     "data": {
      "text/plain": [
       "2"
      ]
     },
     "execution_count": 5,
     "metadata": {},
     "output_type": "execute_result"
    }
   ],
   "source": [
    "dict1[\"key2\"]"
   ]
  },
  {
   "cell_type": "code",
   "execution_count": 6,
   "id": "c84bb6a2",
   "metadata": {},
   "outputs": [],
   "source": [
    "names = {\"Dad\":\"Amit\", \"Mom\":\"Monali\", \"Child\":\"Anvika\"}"
   ]
  },
  {
   "cell_type": "code",
   "execution_count": 7,
   "id": "92d070ca",
   "metadata": {},
   "outputs": [
    {
     "data": {
      "text/plain": [
       "{'Dad': 'Amit', 'Mom': 'Monali', 'Child': 'Anvika'}"
      ]
     },
     "execution_count": 7,
     "metadata": {},
     "output_type": "execute_result"
    }
   ],
   "source": [
    "names"
   ]
  },
  {
   "cell_type": "code",
   "execution_count": 8,
   "id": "c1e84bd1",
   "metadata": {},
   "outputs": [
    {
     "data": {
      "text/plain": [
       "'Amit'"
      ]
     },
     "execution_count": 8,
     "metadata": {},
     "output_type": "execute_result"
    }
   ],
   "source": [
    "names[\"Dad\"]"
   ]
  },
  {
   "cell_type": "code",
   "execution_count": 9,
   "id": "48eeae39",
   "metadata": {},
   "outputs": [
    {
     "ename": "KeyError",
     "evalue": "'Grandpa'",
     "output_type": "error",
     "traceback": [
      "\u001b[1;31m---------------------------------------------------------------------------\u001b[0m",
      "\u001b[1;31mKeyError\u001b[0m                                  Traceback (most recent call last)",
      "Input \u001b[1;32mIn [9]\u001b[0m, in \u001b[0;36m<cell line: 1>\u001b[1;34m()\u001b[0m\n\u001b[1;32m----> 1\u001b[0m \u001b[43mnames\u001b[49m\u001b[43m[\u001b[49m\u001b[38;5;124;43m\"\u001b[39;49m\u001b[38;5;124;43mGrandpa\u001b[39;49m\u001b[38;5;124;43m\"\u001b[39;49m\u001b[43m]\u001b[49m\n",
      "\u001b[1;31mKeyError\u001b[0m: 'Grandpa'"
     ]
    }
   ],
   "source": [
    "names[\"Grandpa\"]"
   ]
  },
  {
   "cell_type": "code",
   "execution_count": 13,
   "id": "b6c3ea0a",
   "metadata": {},
   "outputs": [],
   "source": [
    "names[\"Grandpa\"] = \"Gurunath\""
   ]
  },
  {
   "cell_type": "code",
   "execution_count": 14,
   "id": "b35dd502",
   "metadata": {},
   "outputs": [
    {
     "data": {
      "text/plain": [
       "{'Dad': 'Amit', 'Mom': 'Monali', 'Child': 'Anvika', 'Grandpa': 'Gurunath'}"
      ]
     },
     "execution_count": 14,
     "metadata": {},
     "output_type": "execute_result"
    }
   ],
   "source": [
    "names"
   ]
  },
  {
   "cell_type": "code",
   "execution_count": 16,
   "id": "59229c95",
   "metadata": {},
   "outputs": [
    {
     "data": {
      "text/plain": [
       "'Monali'"
      ]
     },
     "execution_count": 16,
     "metadata": {},
     "output_type": "execute_result"
    }
   ],
   "source": [
    "names.pop(\"Mom\")"
   ]
  },
  {
   "cell_type": "code",
   "execution_count": 17,
   "id": "b43bf3f0",
   "metadata": {},
   "outputs": [
    {
     "data": {
      "text/plain": [
       "{'Dad': 'Amit', 'Child': 'Anvika', 'Grandpa': 'Gurunath'}"
      ]
     },
     "execution_count": 17,
     "metadata": {},
     "output_type": "execute_result"
    }
   ],
   "source": [
    "names"
   ]
  },
  {
   "cell_type": "code",
   "execution_count": 19,
   "id": "7ed3f1ba",
   "metadata": {},
   "outputs": [],
   "source": [
    "data = {\"numbers\":{\"one\":1, \"two\":2, \"threee\":3}, \"currencies\":{\"USD\":\"United state dollars\", \"GBP\":\"Great Britain Pounds\", \"EUR\":\"Euro\"}}"
   ]
  },
  {
   "cell_type": "code",
   "execution_count": 20,
   "id": "9c5d66d9",
   "metadata": {},
   "outputs": [
    {
     "data": {
      "text/plain": [
       "'Great Britain Pounds'"
      ]
     },
     "execution_count": 20,
     "metadata": {},
     "output_type": "execute_result"
    }
   ],
   "source": [
    "data[\"currencies\"][\"GBP\"]"
   ]
  },
  {
   "cell_type": "code",
   "execution_count": 21,
   "id": "22cf146b",
   "metadata": {},
   "outputs": [
    {
     "data": {
      "text/plain": [
       "1"
      ]
     },
     "execution_count": 21,
     "metadata": {},
     "output_type": "execute_result"
    }
   ],
   "source": [
    "data[\"numbers\"][\"one\"]"
   ]
  },
  {
   "cell_type": "code",
   "execution_count": 22,
   "id": "09b23e3b",
   "metadata": {},
   "outputs": [
    {
     "data": {
      "text/plain": [
       "dict_keys(['numbers', 'currencies'])"
      ]
     },
     "execution_count": 22,
     "metadata": {},
     "output_type": "execute_result"
    }
   ],
   "source": [
    "data.keys()"
   ]
  },
  {
   "cell_type": "code",
   "execution_count": 23,
   "id": "8b1d32c0",
   "metadata": {},
   "outputs": [
    {
     "data": {
      "text/plain": [
       "dict_keys(['USD', 'GBP', 'EUR'])"
      ]
     },
     "execution_count": 23,
     "metadata": {},
     "output_type": "execute_result"
    }
   ],
   "source": [
    "data[\"currencies\"].keys()"
   ]
  },
  {
   "cell_type": "code",
   "execution_count": 24,
   "id": "02576680",
   "metadata": {},
   "outputs": [
    {
     "data": {
      "text/plain": [
       "<function dict.values>"
      ]
     },
     "execution_count": 24,
     "metadata": {},
     "output_type": "execute_result"
    }
   ],
   "source": [
    "data.values"
   ]
  },
  {
   "cell_type": "code",
   "execution_count": 25,
   "id": "325ac80d",
   "metadata": {},
   "outputs": [
    {
     "data": {
      "text/plain": [
       "dict_values([{'one': 1, 'two': 2, 'threee': 3}, {'USD': 'United state dollars', 'GBP': 'Great Britain Pounds', 'EUR': 'Euro'}])"
      ]
     },
     "execution_count": 25,
     "metadata": {},
     "output_type": "execute_result"
    }
   ],
   "source": [
    "data.values()"
   ]
  },
  {
   "cell_type": "code",
   "execution_count": 26,
   "id": "186192fe",
   "metadata": {},
   "outputs": [
    {
     "data": {
      "text/plain": [
       "dict_items([('numbers', {'one': 1, 'two': 2, 'threee': 3}), ('currencies', {'USD': 'United state dollars', 'GBP': 'Great Britain Pounds', 'EUR': 'Euro'})])"
      ]
     },
     "execution_count": 26,
     "metadata": {},
     "output_type": "execute_result"
    }
   ],
   "source": [
    "data.items()"
   ]
  },
  {
   "cell_type": "code",
   "execution_count": null,
   "id": "6be95222",
   "metadata": {},
   "outputs": [],
   "source": []
  }
 ],
 "metadata": {
  "kernelspec": {
   "display_name": "Python 3 (ipykernel)",
   "language": "python",
   "name": "python3"
  },
  "language_info": {
   "codemirror_mode": {
    "name": "ipython",
    "version": 3
   },
   "file_extension": ".py",
   "mimetype": "text/x-python",
   "name": "python",
   "nbconvert_exporter": "python",
   "pygments_lexer": "ipython3",
   "version": "3.9.12"
  }
 },
 "nbformat": 4,
 "nbformat_minor": 5
}
