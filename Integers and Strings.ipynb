{
 "cells": [
  {
   "cell_type": "code",
   "execution_count": 1,
   "id": "13979f14",
   "metadata": {},
   "outputs": [
    {
     "data": {
      "text/plain": [
       "1"
      ]
     },
     "execution_count": 1,
     "metadata": {},
     "output_type": "execute_result"
    }
   ],
   "source": [
    "a = 5\n",
    "b = 4\n",
    "a // b"
   ]
  },
  {
   "cell_type": "code",
   "execution_count": 8,
   "id": "2719185d",
   "metadata": {},
   "outputs": [
    {
     "data": {
      "text/plain": [
       "4"
      ]
     },
     "execution_count": 8,
     "metadata": {},
     "output_type": "execute_result"
    }
   ],
   "source": [
    "a % b"
   ]
  },
  {
   "cell_type": "code",
   "execution_count": 3,
   "id": "ea81fc2e",
   "metadata": {},
   "outputs": [],
   "source": [
    "a = 14"
   ]
  },
  {
   "cell_type": "code",
   "execution_count": 4,
   "id": "9cd485f7",
   "metadata": {},
   "outputs": [],
   "source": [
    "b = 15"
   ]
  },
  {
   "cell_type": "code",
   "execution_count": 7,
   "id": "78b2924f",
   "metadata": {},
   "outputs": [
    {
     "data": {
      "text/plain": [
       "2"
      ]
     },
     "execution_count": 7,
     "metadata": {},
     "output_type": "execute_result"
    }
   ],
   "source": [
    "a // b"
   ]
  },
  {
   "cell_type": "code",
   "execution_count": 6,
   "id": "22a98782",
   "metadata": {},
   "outputs": [],
   "source": [
    "b = 5"
   ]
  },
  {
   "cell_type": "code",
   "execution_count": 9,
   "id": "fda85222",
   "metadata": {},
   "outputs": [
    {
     "data": {
      "text/plain": [
       "3.7416573867739413"
      ]
     },
     "execution_count": 9,
     "metadata": {},
     "output_type": "execute_result"
    }
   ],
   "source": [
    "a ** 0.5"
   ]
  },
  {
   "cell_type": "code",
   "execution_count": 10,
   "id": "ebd72aa1",
   "metadata": {},
   "outputs": [
    {
     "data": {
      "text/plain": [
       "2.4101422641752297"
      ]
     },
     "execution_count": 10,
     "metadata": {},
     "output_type": "execute_result"
    }
   ],
   "source": [
    "a ** (1/3)"
   ]
  },
  {
   "cell_type": "code",
   "execution_count": 12,
   "id": "efa952ef",
   "metadata": {},
   "outputs": [],
   "source": [
    "# Strings"
   ]
  },
  {
   "cell_type": "code",
   "execution_count": 13,
   "id": "27a7de8c",
   "metadata": {},
   "outputs": [],
   "source": [
    "text = \"Python is awsome!\""
   ]
  },
  {
   "cell_type": "code",
   "execution_count": 14,
   "id": "dd04690b",
   "metadata": {},
   "outputs": [
    {
     "data": {
      "text/plain": [
       "'awsome!'"
      ]
     },
     "execution_count": 14,
     "metadata": {},
     "output_type": "execute_result"
    }
   ],
   "source": [
    "text[10:]"
   ]
  },
  {
   "cell_type": "code",
   "execution_count": 15,
   "id": "1a04a9fe",
   "metadata": {},
   "outputs": [
    {
     "data": {
      "text/plain": [
       "'thon is aws'"
      ]
     },
     "execution_count": 15,
     "metadata": {},
     "output_type": "execute_result"
    }
   ],
   "source": [
    "text[2:13]"
   ]
  },
  {
   "cell_type": "code",
   "execution_count": 16,
   "id": "a4b1c8a8",
   "metadata": {},
   "outputs": [
    {
     "data": {
      "text/plain": [
       "'Python is a'"
      ]
     },
     "execution_count": 16,
     "metadata": {},
     "output_type": "execute_result"
    }
   ],
   "source": [
    "text[:11]"
   ]
  },
  {
   "cell_type": "code",
   "execution_count": 17,
   "id": "d3f8138e",
   "metadata": {},
   "outputs": [
    {
     "data": {
      "text/plain": [
       "'Python is awsome!'"
      ]
     },
     "execution_count": 17,
     "metadata": {},
     "output_type": "execute_result"
    }
   ],
   "source": [
    "text[:]"
   ]
  },
  {
   "cell_type": "code",
   "execution_count": 18,
   "id": "89dc3188",
   "metadata": {},
   "outputs": [
    {
     "data": {
      "text/plain": [
       "'Python is awsome'"
      ]
     },
     "execution_count": 18,
     "metadata": {},
     "output_type": "execute_result"
    }
   ],
   "source": [
    "text[:-1]"
   ]
  },
  {
   "cell_type": "code",
   "execution_count": 19,
   "id": "95c9f0b2",
   "metadata": {},
   "outputs": [
    {
     "data": {
      "text/plain": [
       "'Pto sasm!'"
      ]
     },
     "execution_count": 19,
     "metadata": {},
     "output_type": "execute_result"
    }
   ],
   "source": [
    "text[::2]"
   ]
  },
  {
   "cell_type": "code",
   "execution_count": 20,
   "id": "d6f21b0a",
   "metadata": {},
   "outputs": [
    {
     "data": {
      "text/plain": [
       "'oia'"
      ]
     },
     "execution_count": 20,
     "metadata": {},
     "output_type": "execute_result"
    }
   ],
   "source": [
    "text[4:13:3]"
   ]
  },
  {
   "cell_type": "code",
   "execution_count": 21,
   "id": "cf402433",
   "metadata": {},
   "outputs": [
    {
     "data": {
      "text/plain": [
       "'!emoswa si nohtyP'"
      ]
     },
     "execution_count": 21,
     "metadata": {},
     "output_type": "execute_result"
    }
   ],
   "source": [
    "text[::-1]"
   ]
  },
  {
   "cell_type": "code",
   "execution_count": 22,
   "id": "25864064",
   "metadata": {},
   "outputs": [
    {
     "data": {
      "text/plain": [
       "'!msas otP'"
      ]
     },
     "execution_count": 22,
     "metadata": {},
     "output_type": "execute_result"
    }
   ],
   "source": [
    "text[::-2]"
   ]
  },
  {
   "cell_type": "code",
   "execution_count": 23,
   "id": "d86b0873",
   "metadata": {},
   "outputs": [
    {
     "ename": "NameError",
     "evalue": "name 'leb' is not defined",
     "output_type": "error",
     "traceback": [
      "\u001b[1;31m---------------------------------------------------------------------------\u001b[0m",
      "\u001b[1;31mNameError\u001b[0m                                 Traceback (most recent call last)",
      "Input \u001b[1;32mIn [23]\u001b[0m, in \u001b[0;36m<cell line: 1>\u001b[1;34m()\u001b[0m\n\u001b[1;32m----> 1\u001b[0m \u001b[43mleb\u001b[49m(text)\n",
      "\u001b[1;31mNameError\u001b[0m: name 'leb' is not defined"
     ]
    }
   ],
   "source": [
    "leb(text)"
   ]
  },
  {
   "cell_type": "code",
   "execution_count": 24,
   "id": "d9ad3593",
   "metadata": {},
   "outputs": [
    {
     "data": {
      "text/plain": [
       "17"
      ]
     },
     "execution_count": 24,
     "metadata": {},
     "output_type": "execute_result"
    }
   ],
   "source": [
    "len(text)"
   ]
  },
  {
   "cell_type": "code",
   "execution_count": 25,
   "id": "ec95b7cd",
   "metadata": {},
   "outputs": [
    {
     "data": {
      "text/plain": [
       "'Python is awsome!Python is awsome!Python is awsome!'"
      ]
     },
     "execution_count": 25,
     "metadata": {},
     "output_type": "execute_result"
    }
   ],
   "source": [
    "text * 3"
   ]
  },
  {
   "cell_type": "code",
   "execution_count": 26,
   "id": "4e3fc48c",
   "metadata": {},
   "outputs": [
    {
     "data": {
      "text/plain": [
       "'Python is awsome! Python is awsome!'"
      ]
     },
     "execution_count": 26,
     "metadata": {},
     "output_type": "execute_result"
    }
   ],
   "source": [
    "text + ' ' + text"
   ]
  },
  {
   "cell_type": "code",
   "execution_count": null,
   "id": "715691b8",
   "metadata": {},
   "outputs": [],
   "source": []
  }
 ],
 "metadata": {
  "kernelspec": {
   "display_name": "Python 3 (ipykernel)",
   "language": "python",
   "name": "python3"
  },
  "language_info": {
   "codemirror_mode": {
    "name": "ipython",
    "version": 3
   },
   "file_extension": ".py",
   "mimetype": "text/x-python",
   "name": "python",
   "nbconvert_exporter": "python",
   "pygments_lexer": "ipython3",
   "version": "3.9.12"
  }
 },
 "nbformat": 4,
 "nbformat_minor": 5
}
