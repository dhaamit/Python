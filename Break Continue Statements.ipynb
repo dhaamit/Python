{
 "cells": [
  {
   "cell_type": "code",
   "execution_count": 1,
   "id": "d005f269",
   "metadata": {},
   "outputs": [
    {
     "name": "stdout",
     "output_type": "stream",
     "text": [
      "0\n",
      "1\n",
      "2\n",
      "3\n",
      "4\n"
     ]
    }
   ],
   "source": [
    "#break statements for loops\n",
    "for i in range (10):\n",
    "    if i==5:\n",
    "        break\n",
    "    print (i)        "
   ]
  },
  {
   "cell_type": "code",
   "execution_count": 2,
   "id": "98b2bf99",
   "metadata": {},
   "outputs": [
    {
     "name": "stdout",
     "output_type": "stream",
     "text": [
      "0\n",
      "1\n",
      "2\n",
      "3\n",
      "4\n",
      "5\n"
     ]
    }
   ],
   "source": [
    "#break statement in while loop\n",
    "counter = 0\n",
    "while counter<10:\n",
    "    print (counter)\n",
    "    if counter == 5:\n",
    "        break\n",
    "    counter += 1"
   ]
  },
  {
   "cell_type": "code",
   "execution_count": 4,
   "id": "8c9a915e",
   "metadata": {},
   "outputs": [
    {
     "name": "stdout",
     "output_type": "stream",
     "text": [
      "Please enter your name or enter 'q' to quit:Amit\n",
      "Amit\n",
      "Please enter your name or enter 'q' to quit:q\n",
      "You quit! Thanks, see you again!\n"
     ]
    }
   ],
   "source": [
    "#program to get name as input and quit on q\n",
    "\n",
    "while True:\n",
    "    name = input (\"Please enter your name or enter 'q' to quit:\")\n",
    "    if name == 'q':\n",
    "        print (\"You quit! Thanks, see you again!\")\n",
    "        break;\n",
    "    print(name)    "
   ]
  },
  {
   "cell_type": "code",
   "execution_count": null,
   "id": "87b3244a",
   "metadata": {},
   "outputs": [],
   "source": []
  }
 ],
 "metadata": {
  "kernelspec": {
   "display_name": "Python 3 (ipykernel)",
   "language": "python",
   "name": "python3"
  },
  "language_info": {
   "codemirror_mode": {
    "name": "ipython",
    "version": 3
   },
   "file_extension": ".py",
   "mimetype": "text/x-python",
   "name": "python",
   "nbconvert_exporter": "python",
   "pygments_lexer": "ipython3",
   "version": "3.9.12"
  }
 },
 "nbformat": 4,
 "nbformat_minor": 5
}
