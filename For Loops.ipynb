{
 "cells": [
  {
   "cell_type": "code",
   "execution_count": 2,
   "id": "0302ce1c",
   "metadata": {},
   "outputs": [
    {
     "name": "stdout",
     "output_type": "stream",
     "text": [
      "1\n",
      "2\n",
      "3\n",
      "4\n",
      "5\n",
      "6\n"
     ]
    }
   ],
   "source": [
    "#For Loops in List\n",
    "my_list = [1,2,3,4,5,6]\n",
    "for item in my_list:\n",
    "    print (item)"
   ]
  },
  {
   "cell_type": "code",
   "execution_count": 3,
   "id": "518bba4e",
   "metadata": {},
   "outputs": [
    {
     "name": "stdout",
     "output_type": "stream",
     "text": [
      "1\n",
      "2\n",
      "3\n",
      "4\n",
      "5\n",
      "6\n"
     ]
    }
   ],
   "source": [
    "#For Loops in tuples\n",
    "tup = (1,2,3,4,5,6)\n",
    "for i in tup:\n",
    "    print (i)"
   ]
  },
  {
   "cell_type": "code",
   "execution_count": 5,
   "id": "15034fc2",
   "metadata": {},
   "outputs": [
    {
     "name": "stdout",
     "output_type": "stream",
     "text": [
      "i: 0 j: 1 k: 2\n",
      "i: 2 j: 3 k: 4\n",
      "i: 3 j: 4 k: 5\n"
     ]
    }
   ],
   "source": [
    "#multidimensional tups -- important to have equal no of elements in sub-tups.\n",
    "my_tup = ((0,1,2),(2,3,4),(3,4,5))\n",
    "\n",
    "for (i,j,k) in my_tup:\n",
    "    print(\"i:\",i,\"j:\",j,\"k:\",k)"
   ]
  },
  {
   "cell_type": "code",
   "execution_count": 7,
   "id": "ee6464e0",
   "metadata": {},
   "outputs": [
    {
     "name": "stdout",
     "output_type": "stream",
     "text": [
      "2\n",
      "4\n",
      "8\n",
      "0\n",
      "6\n"
     ]
    }
   ],
   "source": [
    "#find even numbers from list\n",
    "my_list1 = [2,3,4,5,8,9,0,6,3,1]\n",
    "\n",
    "for item in my_list1:\n",
    "    if item % 2 == 0:\n",
    "        print(item)"
   ]
  },
  {
   "cell_type": "code",
   "execution_count": 8,
   "id": "f76fff12",
   "metadata": {},
   "outputs": [
    {
     "name": "stdout",
     "output_type": "stream",
     "text": [
      "3\n",
      "5\n",
      "63\n",
      "43\n",
      "3\n",
      "879\n",
      "67\n"
     ]
    }
   ],
   "source": [
    "#find odd numbers from tuples\n",
    "my_tup1 = (3,2,5,63,676,43,2,3,879,67,2454)\n",
    "\n",
    "for anyvar in my_tup1:\n",
    "    if anyvar % 2 != 0:\n",
    "        print (anyvar)"
   ]
  },
  {
   "cell_type": "code",
   "execution_count": 9,
   "id": "92adc6f7",
   "metadata": {},
   "outputs": [
    {
     "name": "stdout",
     "output_type": "stream",
     "text": [
      "PPP\n",
      "yyy\n",
      "ttt\n",
      "hhh\n",
      "ooo\n",
      "nnn\n"
     ]
    }
   ],
   "source": [
    "#Strings - print each letter in string 3 times\n",
    "myString = \"Python\"\n",
    "for letter in myString:\n",
    "    print(letter*3)"
   ]
  },
  {
   "cell_type": "code",
   "execution_count": 15,
   "id": "ed7b1732",
   "metadata": {},
   "outputs": [
    {
     "name": "stdout",
     "output_type": "stream",
     "text": [
      "one\n",
      "two\n",
      "three\n",
      "four\n",
      "five\n",
      "1\n",
      "2\n",
      "3\n",
      "4\n",
      "5\n",
      "('one', 1)\n",
      "('two', 2)\n",
      "('three', 3)\n",
      "('four', 4)\n",
      "('five', 5)\n",
      "Key: one Value: 1\n",
      "Key: two Value: 2\n",
      "Key: three Value: 3\n",
      "Key: four Value: 4\n",
      "Key: five Value: 5\n"
     ]
    }
   ],
   "source": [
    "#Dictionaries\n",
    "my_dict = {\"one\":1, \"two\":2, \"three\":3, \"four\":4}\n",
    "\n",
    "my_dict[\"five\"] = 5\n",
    "\n",
    "for i in my_dict:\n",
    "    print (i) #prints keys\n",
    "\n",
    "\n",
    "for i in my_dict.values():\n",
    "    print (i) #Prints values\n",
    "    \n",
    "for i in my_dict.items():\n",
    "    print (i) #Prints ke-value pair\n",
    "    \n",
    "for i,j in my_dict.items():\n",
    "    print (\"Key:\",i,\"Value:\",j)"
   ]
  },
  {
   "cell_type": "code",
   "execution_count": null,
   "id": "2425ac27",
   "metadata": {},
   "outputs": [],
   "source": []
  }
 ],
 "metadata": {
  "kernelspec": {
   "display_name": "Python 3 (ipykernel)",
   "language": "python",
   "name": "python3"
  },
  "language_info": {
   "codemirror_mode": {
    "name": "ipython",
    "version": 3
   },
   "file_extension": ".py",
   "mimetype": "text/x-python",
   "name": "python",
   "nbconvert_exporter": "python",
   "pygments_lexer": "ipython3",
   "version": "3.9.12"
  }
 },
 "nbformat": 4,
 "nbformat_minor": 5
}
