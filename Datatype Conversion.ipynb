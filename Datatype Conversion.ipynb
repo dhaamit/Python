{
 "cells": [
  {
   "cell_type": "code",
   "execution_count": 1,
   "id": "e7014f78",
   "metadata": {},
   "outputs": [],
   "source": [
    "a = 24\n",
    "b = float (a)"
   ]
  },
  {
   "cell_type": "code",
   "execution_count": 2,
   "id": "52629308",
   "metadata": {},
   "outputs": [
    {
     "data": {
      "text/plain": [
       "24.0"
      ]
     },
     "execution_count": 2,
     "metadata": {},
     "output_type": "execute_result"
    }
   ],
   "source": [
    "b"
   ]
  },
  {
   "cell_type": "code",
   "execution_count": 3,
   "id": "199c524c",
   "metadata": {},
   "outputs": [
    {
     "data": {
      "text/plain": [
       "-1.0"
      ]
     },
     "execution_count": 3,
     "metadata": {},
     "output_type": "execute_result"
    }
   ],
   "source": [
    "float (-1)"
   ]
  },
  {
   "cell_type": "code",
   "execution_count": 4,
   "id": "e2efd1bd",
   "metadata": {},
   "outputs": [
    {
     "data": {
      "text/plain": [
       "3"
      ]
     },
     "execution_count": 4,
     "metadata": {},
     "output_type": "execute_result"
    }
   ],
   "source": [
    "int (3.4)"
   ]
  },
  {
   "cell_type": "code",
   "execution_count": 5,
   "id": "691a3503",
   "metadata": {},
   "outputs": [
    {
     "data": {
      "text/plain": [
       "9"
      ]
     },
     "execution_count": 5,
     "metadata": {},
     "output_type": "execute_result"
    }
   ],
   "source": [
    "int (9.9)"
   ]
  },
  {
   "cell_type": "code",
   "execution_count": 6,
   "id": "118f7b8e",
   "metadata": {},
   "outputs": [
    {
     "ename": "ValueError",
     "evalue": "invalid literal for int() with base 10: '3.14'",
     "output_type": "error",
     "traceback": [
      "\u001b[1;31m---------------------------------------------------------------------------\u001b[0m",
      "\u001b[1;31mValueError\u001b[0m                                Traceback (most recent call last)",
      "Input \u001b[1;32mIn [6]\u001b[0m, in \u001b[0;36m<cell line: 1>\u001b[1;34m()\u001b[0m\n\u001b[1;32m----> 1\u001b[0m \u001b[38;5;28;43mint\u001b[39;49m\u001b[43m \u001b[49m\u001b[43m(\u001b[49m\u001b[38;5;124;43m'\u001b[39;49m\u001b[38;5;124;43m3.14\u001b[39;49m\u001b[38;5;124;43m'\u001b[39;49m\u001b[43m)\u001b[49m\n",
      "\u001b[1;31mValueError\u001b[0m: invalid literal for int() with base 10: '3.14'"
     ]
    }
   ],
   "source": [
    "int ('3.14')"
   ]
  },
  {
   "cell_type": "code",
   "execution_count": 7,
   "id": "4b4f968a",
   "metadata": {},
   "outputs": [
    {
     "data": {
      "text/plain": [
       "32"
      ]
     },
     "execution_count": 7,
     "metadata": {},
     "output_type": "execute_result"
    }
   ],
   "source": [
    "int ('32')"
   ]
  },
  {
   "cell_type": "code",
   "execution_count": 8,
   "id": "5bf4ac76",
   "metadata": {},
   "outputs": [],
   "source": [
    "a = 445434343"
   ]
  },
  {
   "cell_type": "code",
   "execution_count": 9,
   "id": "8b4f94ab",
   "metadata": {},
   "outputs": [],
   "source": [
    "b = str(a)"
   ]
  },
  {
   "cell_type": "code",
   "execution_count": 10,
   "id": "325f5883",
   "metadata": {},
   "outputs": [
    {
     "data": {
      "text/plain": [
       "'445434343'"
      ]
     },
     "execution_count": 10,
     "metadata": {},
     "output_type": "execute_result"
    }
   ],
   "source": [
    "b"
   ]
  },
  {
   "cell_type": "code",
   "execution_count": 11,
   "id": "33ce7640",
   "metadata": {},
   "outputs": [],
   "source": [
    "t = 3.14343"
   ]
  },
  {
   "cell_type": "code",
   "execution_count": 12,
   "id": "e185a0f3",
   "metadata": {},
   "outputs": [],
   "source": [
    "y = str (t)"
   ]
  },
  {
   "cell_type": "code",
   "execution_count": 13,
   "id": "ae0bb562",
   "metadata": {},
   "outputs": [
    {
     "data": {
      "text/plain": [
       "'3.14343'"
      ]
     },
     "execution_count": 13,
     "metadata": {},
     "output_type": "execute_result"
    }
   ],
   "source": [
    "y"
   ]
  },
  {
   "cell_type": "code",
   "execution_count": 14,
   "id": "5d538fbc",
   "metadata": {},
   "outputs": [
    {
     "data": {
      "text/plain": [
       "7"
      ]
     },
     "execution_count": 14,
     "metadata": {},
     "output_type": "execute_result"
    }
   ],
   "source": [
    "len (y)"
   ]
  },
  {
   "cell_type": "code",
   "execution_count": 15,
   "id": "ff868f65",
   "metadata": {},
   "outputs": [],
   "source": [
    "a = \"32456544\""
   ]
  },
  {
   "cell_type": "code",
   "execution_count": 16,
   "id": "d22bb24c",
   "metadata": {},
   "outputs": [],
   "source": [
    "b = int(b)"
   ]
  },
  {
   "cell_type": "code",
   "execution_count": 17,
   "id": "c5838b98",
   "metadata": {},
   "outputs": [
    {
     "data": {
      "text/plain": [
       "445434343"
      ]
     },
     "execution_count": 17,
     "metadata": {},
     "output_type": "execute_result"
    }
   ],
   "source": [
    "b"
   ]
  },
  {
   "cell_type": "code",
   "execution_count": 18,
   "id": "01e70eb6",
   "metadata": {},
   "outputs": [],
   "source": [
    "a = \"3445345sa423\""
   ]
  },
  {
   "cell_type": "code",
   "execution_count": 19,
   "id": "79411762",
   "metadata": {},
   "outputs": [
    {
     "ename": "ValueError",
     "evalue": "invalid literal for int() with base 10: '3445345sa423'",
     "output_type": "error",
     "traceback": [
      "\u001b[1;31m---------------------------------------------------------------------------\u001b[0m",
      "\u001b[1;31mValueError\u001b[0m                                Traceback (most recent call last)",
      "Input \u001b[1;32mIn [19]\u001b[0m, in \u001b[0;36m<cell line: 1>\u001b[1;34m()\u001b[0m\n\u001b[1;32m----> 1\u001b[0m b \u001b[38;5;241m=\u001b[39m \u001b[38;5;28;43mint\u001b[39;49m\u001b[43m(\u001b[49m\u001b[43ma\u001b[49m\u001b[43m)\u001b[49m\n",
      "\u001b[1;31mValueError\u001b[0m: invalid literal for int() with base 10: '3445345sa423'"
     ]
    }
   ],
   "source": [
    "b = int(a)"
   ]
  },
  {
   "cell_type": "code",
   "execution_count": 20,
   "id": "01bd3022",
   "metadata": {},
   "outputs": [],
   "source": [
    "a = \"23424253645\""
   ]
  },
  {
   "cell_type": "code",
   "execution_count": 21,
   "id": "c8db3184",
   "metadata": {},
   "outputs": [],
   "source": [
    "b = int (a)"
   ]
  },
  {
   "cell_type": "code",
   "execution_count": 22,
   "id": "a7efcbf1",
   "metadata": {},
   "outputs": [
    {
     "data": {
      "text/plain": [
       "23424253645"
      ]
     },
     "execution_count": 22,
     "metadata": {},
     "output_type": "execute_result"
    }
   ],
   "source": [
    "b"
   ]
  },
  {
   "cell_type": "code",
   "execution_count": 23,
   "id": "fa8f5850",
   "metadata": {},
   "outputs": [],
   "source": [
    "a =3.14"
   ]
  },
  {
   "cell_type": "code",
   "execution_count": 24,
   "id": "914122ed",
   "metadata": {},
   "outputs": [],
   "source": [
    "b =float (a)"
   ]
  },
  {
   "cell_type": "code",
   "execution_count": 25,
   "id": "d7a8754f",
   "metadata": {},
   "outputs": [
    {
     "data": {
      "text/plain": [
       "3.14"
      ]
     },
     "execution_count": 25,
     "metadata": {},
     "output_type": "execute_result"
    }
   ],
   "source": [
    "b"
   ]
  },
  {
   "cell_type": "code",
   "execution_count": 26,
   "id": "b1e830cc",
   "metadata": {},
   "outputs": [],
   "source": [
    "a = [1,3,4,6,7]"
   ]
  },
  {
   "cell_type": "code",
   "execution_count": 27,
   "id": "2dc9203d",
   "metadata": {},
   "outputs": [],
   "source": [
    "b = tuple(a)"
   ]
  },
  {
   "cell_type": "code",
   "execution_count": 28,
   "id": "897015f2",
   "metadata": {},
   "outputs": [
    {
     "ename": "TypeError",
     "evalue": "'tuple' object does not support item assignment",
     "output_type": "error",
     "traceback": [
      "\u001b[1;31m---------------------------------------------------------------------------\u001b[0m",
      "\u001b[1;31mTypeError\u001b[0m                                 Traceback (most recent call last)",
      "Input \u001b[1;32mIn [28]\u001b[0m, in \u001b[0;36m<cell line: 1>\u001b[1;34m()\u001b[0m\n\u001b[1;32m----> 1\u001b[0m b[\u001b[38;5;241m2\u001b[39m]\u001b[38;5;241m=\u001b[39m\u001b[38;5;241m3\u001b[39m\n",
      "\u001b[1;31mTypeError\u001b[0m: 'tuple' object does not support item assignment"
     ]
    }
   ],
   "source": [
    "b[2]=3"
   ]
  },
  {
   "cell_type": "code",
   "execution_count": 29,
   "id": "b94e5df4",
   "metadata": {},
   "outputs": [],
   "source": [
    "a[2] = 4"
   ]
  },
  {
   "cell_type": "code",
   "execution_count": 30,
   "id": "cad6c655",
   "metadata": {},
   "outputs": [
    {
     "data": {
      "text/plain": [
       "[1, 3, 4, 6, 7]"
      ]
     },
     "execution_count": 30,
     "metadata": {},
     "output_type": "execute_result"
    }
   ],
   "source": [
    "a"
   ]
  },
  {
   "cell_type": "code",
   "execution_count": 31,
   "id": "63f98544",
   "metadata": {},
   "outputs": [],
   "source": [
    "a[2] = 6"
   ]
  },
  {
   "cell_type": "code",
   "execution_count": 32,
   "id": "958e7a3f",
   "metadata": {},
   "outputs": [
    {
     "data": {
      "text/plain": [
       "[1, 3, 6, 6, 7]"
      ]
     },
     "execution_count": 32,
     "metadata": {},
     "output_type": "execute_result"
    }
   ],
   "source": [
    "a"
   ]
  },
  {
   "cell_type": "code",
   "execution_count": 33,
   "id": "383b50bb",
   "metadata": {},
   "outputs": [],
   "source": [
    "b = (2,3,4,6,7)"
   ]
  },
  {
   "cell_type": "code",
   "execution_count": 34,
   "id": "d0a06b1f",
   "metadata": {},
   "outputs": [],
   "source": [
    "a = list (a)"
   ]
  },
  {
   "cell_type": "code",
   "execution_count": 35,
   "id": "7141ef47",
   "metadata": {},
   "outputs": [],
   "source": [
    "a = list(b)"
   ]
  },
  {
   "cell_type": "code",
   "execution_count": 36,
   "id": "679086c4",
   "metadata": {},
   "outputs": [
    {
     "data": {
      "text/plain": [
       "[2, 3, 4, 6, 7]"
      ]
     },
     "execution_count": 36,
     "metadata": {},
     "output_type": "execute_result"
    }
   ],
   "source": [
    "a"
   ]
  },
  {
   "cell_type": "code",
   "execution_count": null,
   "id": "a335e667",
   "metadata": {},
   "outputs": [],
   "source": []
  }
 ],
 "metadata": {
  "kernelspec": {
   "display_name": "Python 3 (ipykernel)",
   "language": "python",
   "name": "python3"
  },
  "language_info": {
   "codemirror_mode": {
    "name": "ipython",
    "version": 3
   },
   "file_extension": ".py",
   "mimetype": "text/x-python",
   "name": "python",
   "nbconvert_exporter": "python",
   "pygments_lexer": "ipython3",
   "version": "3.9.12"
  }
 },
 "nbformat": 4,
 "nbformat_minor": 5
}
