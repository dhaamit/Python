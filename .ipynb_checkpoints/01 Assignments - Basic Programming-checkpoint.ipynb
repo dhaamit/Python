{
 "cells": [
  {
   "cell_type": "code",
   "execution_count": 3,
   "id": "e82d3014",
   "metadata": {},
   "outputs": [
    {
     "name": "stdout",
     "output_type": "stream",
     "text": [
      "Enter your firstName:Amit\n",
      "Enter your lastName:Dharmale\n",
      "elamrahD timA\n"
     ]
    }
   ],
   "source": [
    "#1. Program that accepts users firstName and Last Name and prints them in reverse order with space\n",
    "firstName = input(\"Enter your firstName:\")\n",
    "lastName = input (\"Enter your lastName:\")\n",
    "Name = firstName + ' ' + lastName\n",
    "print (Name[::-1])"
   ]
  },
  {
   "cell_type": "code",
   "execution_count": 4,
   "id": "235fc9e3",
   "metadata": {},
   "outputs": [
    {
     "name": "stdout",
     "output_type": "stream",
     "text": [
      "Enter the radius of circle:3\n",
      "Area of circle is: 28.26\n"
     ]
    }
   ],
   "source": [
    "#2. Write a Python program which accepts the radius of a circle from the user and compute the area.\n",
    "radius = int(input(\"Enter the radius of circle:\"))\n",
    "area = 3.14 * (radius ** 2)\n",
    "print (\"Area of circle is:\",area)"
   ]
  },
  {
   "cell_type": "code",
   "execution_count": 8,
   "id": "05c807ec",
   "metadata": {},
   "outputs": [
    {
     "name": "stdout",
     "output_type": "stream",
     "text": [
      "Area of cube: 523.33\n"
     ]
    }
   ],
   "source": [
    "#3. Write a Python program to get the the volume of a sphere with radius 5\n",
    "radiusOfSphere = 5\n",
    "areaOfCube = (4/3) * 3.14 * (radiusOfSphere ** 3)\n",
    "print (\"Area of cube: {:.2f}\".format(areaOfCube))"
   ]
  },
  {
   "cell_type": "code",
   "execution_count": 10,
   "id": "8ab93594",
   "metadata": {},
   "outputs": [
    {
     "name": "stdout",
     "output_type": "stream",
     "text": [
      "Enter first number:2\n",
      "Enter second number:4\n",
      "FirstNumber: 4, SecondNumber: 2\n"
     ]
    }
   ],
   "source": [
    "#4. Write a Python program that gets 2 differents numbers as inputs from the user and print them by swapping.\n",
    "firstNumber = int(input(\"Enter first number:\"))\n",
    "secondNumber = int(input(\"Enter second number:\"))\n",
    "(firstNumber,secondNumber)=(secondNumber,firstNumber)\n",
    "print(\"FirstNumber: {}, SecondNumber: {}\".format(firstNumber, secondNumber))"
   ]
  },
  {
   "cell_type": "code",
   "execution_count": 13,
   "id": "2aa8f5d2",
   "metadata": {},
   "outputs": [
    {
     "name": "stdout",
     "output_type": "stream",
     "text": [
      "Please enter your height in inches:67\n",
      "Please enter your weight in pounds:136.87\n",
      "Your BMI is: 21.465021162842508\n"
     ]
    }
   ],
   "source": [
    "#5. Write a Python program that gets the weights and heights as inputs from the user and calculates body mass index(BMI).\n",
    "height = int(input(\"Please enter your height in inches:\"))\n",
    "weight = float(input(\"Please enter your weight in pounds:\"))\n",
    "BMI = (weight * 704)/(height ** 2)\n",
    "print (\"Your BMI is:\",BMI)"
   ]
  },
  {
   "cell_type": "code",
   "execution_count": 19,
   "id": "8ad14d9c",
   "metadata": {},
   "outputs": [
    {
     "name": "stdout",
     "output_type": "stream",
     "text": [
      "Enter a number:45\n",
      "Number is odd.\n"
     ]
    }
   ],
   "source": [
    "#6. Write a Python program to find whether a given number (get the numbers from the user) is even or odd, print out an appropriate message to the user.\n",
    "number = int(input(\"Enter a number:\"))\n",
    "reminder = number % 2\n",
    "if reminder == 0:\n",
    "    print (\"Number is even.\")\n",
    "else :\n",
    "    print (\"Number is odd.\")\n"
   ]
  },
  {
   "cell_type": "markdown",
   "id": "b9f2298b",
   "metadata": {},
   "source": [
    "     "
   ]
  }
 ],
 "metadata": {
  "kernelspec": {
   "display_name": "Python 3 (ipykernel)",
   "language": "python",
   "name": "python3"
  },
  "language_info": {
   "codemirror_mode": {
    "name": "ipython",
    "version": 3
   },
   "file_extension": ".py",
   "mimetype": "text/x-python",
   "name": "python",
   "nbconvert_exporter": "python",
   "pygments_lexer": "ipython3",
   "version": "3.9.12"
  }
 },
 "nbformat": 4,
 "nbformat_minor": 5
}
