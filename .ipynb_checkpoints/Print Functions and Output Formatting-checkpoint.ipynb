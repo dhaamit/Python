{
 "cells": [
  {
   "cell_type": "code",
   "execution_count": 1,
   "id": "cb209a49",
   "metadata": {},
   "outputs": [
    {
     "name": "stdout",
     "output_type": "stream",
     "text": [
      "1 2 3 4 5 6\n"
     ]
    }
   ],
   "source": [
    "print (1,2,3,4,5,6)"
   ]
  },
  {
   "cell_type": "code",
   "execution_count": 2,
   "id": "615bcf64",
   "metadata": {},
   "outputs": [
    {
     "ename": "SyntaxError",
     "evalue": "invalid syntax (583780351.py, line 1)",
     "output_type": "error",
     "traceback": [
      "\u001b[1;36m  Input \u001b[1;32mIn [2]\u001b[1;36m\u001b[0m\n\u001b[1;33m    print (1,2,3,4,5,6, sep = )\u001b[0m\n\u001b[1;37m                              ^\u001b[0m\n\u001b[1;31mSyntaxError\u001b[0m\u001b[1;31m:\u001b[0m invalid syntax\n"
     ]
    }
   ],
   "source": [
    "print (1,2,3,4,5,6, sep = )"
   ]
  },
  {
   "cell_type": "code",
   "execution_count": 3,
   "id": "072a2672",
   "metadata": {},
   "outputs": [
    {
     "name": "stdout",
     "output_type": "stream",
     "text": [
      "1 2 3 4 5 6\n"
     ]
    }
   ],
   "source": [
    "print (1,2,3,4,5,6, sep = \" \")"
   ]
  },
  {
   "cell_type": "code",
   "execution_count": 4,
   "id": "c022a946",
   "metadata": {},
   "outputs": [
    {
     "name": "stdout",
     "output_type": "stream",
     "text": [
      "1.2.3.4.5.6\n"
     ]
    }
   ],
   "source": [
    "print (1,2,3,4,5,6, sep = \".\")"
   ]
  },
  {
   "cell_type": "code",
   "execution_count": 5,
   "id": "09d3d867",
   "metadata": {},
   "outputs": [
    {
     "name": "stdout",
     "output_type": "stream",
     "text": [
      "U.S.A\n"
     ]
    }
   ],
   "source": [
    "print (*\"USA\", sep = \".\")"
   ]
  },
  {
   "cell_type": "code",
   "execution_count": 6,
   "id": "a17461dc",
   "metadata": {},
   "outputs": [
    {
     "name": "stdout",
     "output_type": "stream",
     "text": [
      "R u b y   P y t h o n   S c a l a\n"
     ]
    }
   ],
   "source": [
    "print (*\"Ruby Python Scala\")"
   ]
  },
  {
   "cell_type": "code",
   "execution_count": 7,
   "id": "64555c7a",
   "metadata": {},
   "outputs": [
    {
     "name": "stdout",
     "output_type": "stream",
     "text": [
      "Ruby\n",
      "Python\n",
      "Scala\n"
     ]
    }
   ],
   "source": [
    "print (\"Ruby\", \"Python\", \"Scala\", sep = \"\\n\")"
   ]
  },
  {
   "cell_type": "code",
   "execution_count": 8,
   "id": "87ad0489",
   "metadata": {},
   "outputs": [],
   "source": [
    "a = 'Python is awsome!'"
   ]
  },
  {
   "cell_type": "code",
   "execution_count": 9,
   "id": "b1b1d229",
   "metadata": {},
   "outputs": [
    {
     "name": "stdout",
     "output_type": "stream",
     "text": [
      "P y t h o n   i s   a w s o m e !\n"
     ]
    }
   ],
   "source": [
    "print (*a)"
   ]
  },
  {
   "cell_type": "code",
   "execution_count": 10,
   "id": "1ad0730c",
   "metadata": {},
   "outputs": [
    {
     "name": "stdout",
     "output_type": "stream",
     "text": [
      "P\ty\tt\th\to\tn\t \ti\ts\t \ta\tw\ts\to\tm\te\t!\n"
     ]
    }
   ],
   "source": [
    "print(*a, sep=\"\\t\")"
   ]
  },
  {
   "cell_type": "code",
   "execution_count": 11,
   "id": "535507f1",
   "metadata": {},
   "outputs": [
    {
     "name": "stdout",
     "output_type": "stream",
     "text": [
      "P_y_t_h_o_n_ _i_s_ _a_w_s_o_m_e_!\n"
     ]
    }
   ],
   "source": [
    "print(*a, sep=\"_\")"
   ]
  },
  {
   "cell_type": "code",
   "execution_count": 12,
   "id": "1f87678b",
   "metadata": {},
   "outputs": [
    {
     "name": "stdout",
     "output_type": "stream",
     "text": [
      "*|*|*|*|*|*|*|*|*|*\n"
     ]
    }
   ],
   "source": [
    "print (*(\"*\" * 10), sep = \"|\")"
   ]
  },
  {
   "cell_type": "code",
   "execution_count": 24,
   "id": "5182e36c",
   "metadata": {},
   "outputs": [
    {
     "data": {
      "text/plain": [
       "'2 5 amit'"
      ]
     },
     "execution_count": 24,
     "metadata": {},
     "output_type": "execute_result"
    }
   ],
   "source": [
    "\"{} {} {}\".format(2,5,\"amit\")"
   ]
  },
  {
   "cell_type": "code",
   "execution_count": 25,
   "id": "512b6eff",
   "metadata": {},
   "outputs": [
    {
     "name": "stdout",
     "output_type": "stream",
     "text": [
      "Amit 27 9 5.7\n"
     ]
    }
   ],
   "source": [
    "print(\"{1} {0} {2} {3}\".format(27,\"Amit\", 4+5, 5.7))"
   ]
  },
  {
   "cell_type": "code",
   "execution_count": 26,
   "id": "3c5fb65c",
   "metadata": {},
   "outputs": [],
   "source": [
    "firstName = \"Amit\""
   ]
  },
  {
   "cell_type": "code",
   "execution_count": 27,
   "id": "c1dedbfd",
   "metadata": {},
   "outputs": [
    {
     "name": "stdout",
     "output_type": "stream",
     "text": [
      "My name is Amit.\n",
      "I'm 38 years old.\n"
     ]
    }
   ],
   "source": [
    "age = 38\n",
    "print(\"My name is {}.\\nI'm {} years old.\".format(firstName,age))"
   ]
  },
  {
   "cell_type": "code",
   "execution_count": 28,
   "id": "dc6aae0b",
   "metadata": {},
   "outputs": [
    {
     "data": {
      "text/plain": [
       "'3.452223 5.323232 6.987232'"
      ]
     },
     "execution_count": 28,
     "metadata": {},
     "output_type": "execute_result"
    }
   ],
   "source": [
    "\"{:1f} {:2f} {:3f}\".format(3.45222322, 5.323232325, 6.987232)"
   ]
  },
  {
   "cell_type": "code",
   "execution_count": 29,
   "id": "acdd4de9",
   "metadata": {},
   "outputs": [
    {
     "data": {
      "text/plain": [
       "'3.5 5.32 6.987'"
      ]
     },
     "execution_count": 29,
     "metadata": {},
     "output_type": "execute_result"
    }
   ],
   "source": [
    "\"{:.1f} {:.2f} {:.3f}\".format(3.45222322, 5.323232325, 6.987232)"
   ]
  },
  {
   "cell_type": "code",
   "execution_count": 30,
   "id": "9909c080",
   "metadata": {},
   "outputs": [
    {
     "ename": "NameError",
     "evalue": "name 'true' is not defined",
     "output_type": "error",
     "traceback": [
      "\u001b[1;31m---------------------------------------------------------------------------\u001b[0m",
      "\u001b[1;31mNameError\u001b[0m                                 Traceback (most recent call last)",
      "Input \u001b[1;32mIn [30]\u001b[0m, in \u001b[0;36m<cell line: 4>\u001b[1;34m()\u001b[0m\n\u001b[0;32m      2\u001b[0m b\u001b[38;5;241m=\u001b[39m\u001b[38;5;241m4\u001b[39m\n\u001b[0;32m      3\u001b[0m c\u001b[38;5;241m=\u001b[39m\u001b[38;5;241m90.34\u001b[39m\n\u001b[1;32m----> 4\u001b[0m d\u001b[38;5;241m=\u001b[39m\u001b[43mtrue\u001b[49m\n",
      "\u001b[1;31mNameError\u001b[0m: name 'true' is not defined"
     ]
    }
   ],
   "source": [
    "a=\"welcome\"\n",
    "b=4\n",
    "c=90.34\n",
    "d=true"
   ]
  },
  {
   "cell_type": "code",
   "execution_count": 31,
   "id": "d3fafbfb",
   "metadata": {},
   "outputs": [
    {
     "ename": "NameError",
     "evalue": "name 'TRUE' is not defined",
     "output_type": "error",
     "traceback": [
      "\u001b[1;31m---------------------------------------------------------------------------\u001b[0m",
      "\u001b[1;31mNameError\u001b[0m                                 Traceback (most recent call last)",
      "Input \u001b[1;32mIn [31]\u001b[0m, in \u001b[0;36m<cell line: 4>\u001b[1;34m()\u001b[0m\n\u001b[0;32m      2\u001b[0m b\u001b[38;5;241m=\u001b[39m\u001b[38;5;241m4\u001b[39m\n\u001b[0;32m      3\u001b[0m c\u001b[38;5;241m=\u001b[39m\u001b[38;5;241m90.34\u001b[39m\n\u001b[1;32m----> 4\u001b[0m d\u001b[38;5;241m=\u001b[39m\u001b[43mTRUE\u001b[49m\n",
      "\u001b[1;31mNameError\u001b[0m: name 'TRUE' is not defined"
     ]
    }
   ],
   "source": [
    "a=\"welcome\"\n",
    "b=4\n",
    "c=90.34\n",
    "d=TRUE"
   ]
  },
  {
   "cell_type": "code",
   "execution_count": 32,
   "id": "33a300bb",
   "metadata": {},
   "outputs": [],
   "source": [
    "a=\"welcome\"\n",
    "b=4\n",
    "c=90.34"
   ]
  },
  {
   "cell_type": "code",
   "execution_count": 33,
   "id": "1a5de1a1",
   "metadata": {},
   "outputs": [
    {
     "data": {
      "text/plain": [
       "str"
      ]
     },
     "execution_count": 33,
     "metadata": {},
     "output_type": "execute_result"
    }
   ],
   "source": [
    "type(a)"
   ]
  },
  {
   "cell_type": "code",
   "execution_count": 34,
   "id": "1766488c",
   "metadata": {},
   "outputs": [
    {
     "data": {
      "text/plain": [
       "int"
      ]
     },
     "execution_count": 34,
     "metadata": {},
     "output_type": "execute_result"
    }
   ],
   "source": [
    "type(b)"
   ]
  },
  {
   "cell_type": "code",
   "execution_count": 35,
   "id": "62a6c7c6",
   "metadata": {},
   "outputs": [
    {
     "data": {
      "text/plain": [
       "float"
      ]
     },
     "execution_count": 35,
     "metadata": {},
     "output_type": "execute_result"
    }
   ],
   "source": [
    "type(c)"
   ]
  },
  {
   "cell_type": "code",
   "execution_count": null,
   "id": "8614cde1",
   "metadata": {},
   "outputs": [],
   "source": []
  }
 ],
 "metadata": {
  "kernelspec": {
   "display_name": "Python 3 (ipykernel)",
   "language": "python",
   "name": "python3"
  },
  "language_info": {
   "codemirror_mode": {
    "name": "ipython",
    "version": 3
   },
   "file_extension": ".py",
   "mimetype": "text/x-python",
   "name": "python",
   "nbconvert_exporter": "python",
   "pygments_lexer": "ipython3",
   "version": "3.9.12"
  }
 },
 "nbformat": 4,
 "nbformat_minor": 5
}
