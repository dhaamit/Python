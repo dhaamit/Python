{
 "cells": [
  {
   "cell_type": "code",
   "execution_count": null,
   "id": "b056572d",
   "metadata": {},
   "outputs": [],
   "source": [
    "#break statements for loops\n",
    "for i in range (10):\n",
    "    if i==5:\n",
    "        break\n",
    "    print (i)        "
   ]
  }
 ],
 "metadata": {
  "kernelspec": {
   "display_name": "Python 3 (ipykernel)",
   "language": "python",
   "name": "python3"
  },
  "language_info": {
   "codemirror_mode": {
    "name": "ipython",
    "version": 3
   },
   "file_extension": ".py",
   "mimetype": "text/x-python",
   "name": "python",
   "nbconvert_exporter": "python",
   "pygments_lexer": "ipython3",
   "version": "3.9.12"
  }
 },
 "nbformat": 4,
 "nbformat_minor": 5
}
