{
 "cells": [
  {
   "cell_type": "code",
   "execution_count": 1,
   "id": "ae23162e",
   "metadata": {},
   "outputs": [],
   "source": [
    "## if-elif-else"
   ]
  },
  {
   "cell_type": "code",
   "execution_count": 9,
   "id": "0ca8c9b7",
   "metadata": {
    "scrolled": true
   },
   "outputs": [
    {
     "name": "stdout",
     "output_type": "stream",
     "text": [
      "\n",
      "=======================\n",
      "    Calculator\n",
      "=======================\n",
      "Please enter your choice\n",
      "\n",
      "1. Addition\n",
      "2. Subtraction\n",
      "3. Multiplication\n",
      "4. Division\n",
      "\n",
      "Enter the choice:5\n",
      "First Number:4\n",
      "Second Number:5\n",
      "Invalid Choice.\n"
     ]
    }
   ],
   "source": [
    "print(\"\"\"\n",
    "=======================\n",
    "    Calculator\n",
    "=======================\n",
    "Please enter your choice\n",
    "\n",
    "1. Addition\n",
    "2. Subtraction\n",
    "3. Multiplication\n",
    "4. Division\n",
    "\"\"\")\n",
    "\n",
    "choice = input (\"Enter the choice:\")\n",
    "firstNumber = int (input (\"First Number:\"))\n",
    "secondNumber = int (input (\"Second Number:\"))\n",
    "\n",
    "if choice==\"1\":\n",
    "    print (firstNumber, \"+\", secondNumber, \"=\",firstNumber + secondNumber)\n",
    "elif choice==\"2\":\n",
    "    print (firstNumber, \"-\", secondNumber, \"=\",firstNumber - secondNumber)\n",
    "elif choice==\"3\":\n",
    "    print (firstNumber, \"*\", secondNumber, \"=\",firstNumber * secondNumber)\n",
    "elif choice==\"4\":\n",
    "    print (firstNumber, \"/\", secondNumber, \"=\",firstNumber / secondNumber)\n",
    "else:\n",
    "    print (\"Invalid Choice.\")"
   ]
  },
  {
   "cell_type": "code",
   "execution_count": null,
   "id": "22126743",
   "metadata": {},
   "outputs": [],
   "source": []
  }
 ],
 "metadata": {
  "kernelspec": {
   "display_name": "Python 3 (ipykernel)",
   "language": "python",
   "name": "python3"
  },
  "language_info": {
   "codemirror_mode": {
    "name": "ipython",
    "version": 3
   },
   "file_extension": ".py",
   "mimetype": "text/x-python",
   "name": "python",
   "nbconvert_exporter": "python",
   "pygments_lexer": "ipython3",
   "version": "3.9.12"
  }
 },
 "nbformat": 4,
 "nbformat_minor": 5
}
