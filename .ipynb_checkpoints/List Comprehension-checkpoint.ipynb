{
 "cells": [
  {
   "cell_type": "code",
   "execution_count": 4,
   "id": "cf2e667c",
   "metadata": {},
   "outputs": [
    {
     "name": "stdout",
     "output_type": "stream",
     "text": [
      "[1, 2, 3, 4, 5, 6]\n"
     ]
    }
   ],
   "source": [
    "#List Comprehensions\n",
    "\n",
    "#ex1 - normal way\n",
    "list1 = [1,2,3,4,5,6]\n",
    "list2 = list()\n",
    "\n",
    "for i in list1:\n",
    "    list2.append(i)\n",
    "    \n",
    "print (list2)\n"
   ]
  },
  {
   "cell_type": "code",
   "execution_count": 6,
   "id": "a97b4f36",
   "metadata": {},
   "outputs": [
    {
     "name": "stdout",
     "output_type": "stream",
     "text": [
      "[1, 2, 3, 4, 5, 6]\n"
     ]
    }
   ],
   "source": [
    "#ex1 - list comprehension\n",
    "list1 = [1,2,3,4,5,6]\n",
    "list2 = [i for i in list1]\n",
    "print (list2)"
   ]
  },
  {
   "cell_type": "code",
   "execution_count": 8,
   "id": "9036f935",
   "metadata": {},
   "outputs": [
    {
     "name": "stdout",
     "output_type": "stream",
     "text": [
      "[0, 1, 2, 3, 5, 6, 8, 9]\n"
     ]
    }
   ],
   "source": [
    "#ex2 \n",
    "list1 = list(range(0,10))\n",
    "\n",
    "list2 = [i for i in list1 if not(i==4 or i==7)]\n",
    "print (list2)"
   ]
  },
  {
   "cell_type": "code",
   "execution_count": 9,
   "id": "6f1ec86a",
   "metadata": {},
   "outputs": [
    {
     "name": "stdout",
     "output_type": "stream",
     "text": [
      "['8', '9', '1', '2', '1', '2', '3']\n"
     ]
    }
   ],
   "source": [
    "#ex3\n",
    "my_string = \"My mobile number is 8912123\"\n",
    "list3 = [n for n in my_string if n.isdigit()]\n",
    "print(list3)"
   ]
  },
  {
   "cell_type": "code",
   "execution_count": null,
   "id": "01d769cf",
   "metadata": {},
   "outputs": [],
   "source": []
  }
 ],
 "metadata": {
  "kernelspec": {
   "display_name": "Python 3 (ipykernel)",
   "language": "python",
   "name": "python3"
  },
  "language_info": {
   "codemirror_mode": {
    "name": "ipython",
    "version": 3
   },
   "file_extension": ".py",
   "mimetype": "text/x-python",
   "name": "python",
   "nbconvert_exporter": "python",
   "pygments_lexer": "ipython3",
   "version": "3.9.12"
  }
 },
 "nbformat": 4,
 "nbformat_minor": 5
}
