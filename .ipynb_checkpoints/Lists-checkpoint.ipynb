{
 "cells": [
  {
   "cell_type": "code",
   "execution_count": 1,
   "id": "22ce4fa4",
   "metadata": {},
   "outputs": [],
   "source": [
    "list1 = []"
   ]
  },
  {
   "cell_type": "code",
   "execution_count": 2,
   "id": "05dc338b",
   "metadata": {},
   "outputs": [
    {
     "data": {
      "text/plain": [
       "list"
      ]
     },
     "execution_count": 2,
     "metadata": {},
     "output_type": "execute_result"
    }
   ],
   "source": [
    "type(list1)"
   ]
  },
  {
   "cell_type": "code",
   "execution_count": 3,
   "id": "eb0558d5",
   "metadata": {},
   "outputs": [],
   "source": [
    "list2 = list()"
   ]
  },
  {
   "cell_type": "code",
   "execution_count": 4,
   "id": "722cc4e5",
   "metadata": {},
   "outputs": [
    {
     "data": {
      "text/plain": [
       "list"
      ]
     },
     "execution_count": 4,
     "metadata": {},
     "output_type": "execute_result"
    }
   ],
   "source": [
    "type(list2)"
   ]
  },
  {
   "cell_type": "code",
   "execution_count": 5,
   "id": "4f4d5408",
   "metadata": {},
   "outputs": [],
   "source": [
    "listElement = [2,4,5.6,\"amit\",[34,6.7,'a'],[4,5]]"
   ]
  },
  {
   "cell_type": "code",
   "execution_count": 6,
   "id": "d90717fc",
   "metadata": {},
   "outputs": [
    {
     "data": {
      "text/plain": [
       "6"
      ]
     },
     "execution_count": 6,
     "metadata": {},
     "output_type": "execute_result"
    }
   ],
   "source": [
    "len(listElement)"
   ]
  },
  {
   "cell_type": "code",
   "execution_count": 7,
   "id": "ce59bf56",
   "metadata": {},
   "outputs": [
    {
     "data": {
      "text/plain": [
       "3"
      ]
     },
     "execution_count": 7,
     "metadata": {},
     "output_type": "execute_result"
    }
   ],
   "source": [
    "len(listElement[4])"
   ]
  },
  {
   "cell_type": "code",
   "execution_count": 8,
   "id": "9dbdf598",
   "metadata": {},
   "outputs": [],
   "source": [
    "text = \"hello world\""
   ]
  },
  {
   "cell_type": "code",
   "execution_count": 9,
   "id": "d610ac18",
   "metadata": {},
   "outputs": [],
   "source": [
    "listText = list(text)"
   ]
  },
  {
   "cell_type": "code",
   "execution_count": 10,
   "id": "d85809c5",
   "metadata": {},
   "outputs": [
    {
     "data": {
      "text/plain": [
       "11"
      ]
     },
     "execution_count": 10,
     "metadata": {},
     "output_type": "execute_result"
    }
   ],
   "source": [
    "len(listText)\n"
   ]
  },
  {
   "cell_type": "code",
   "execution_count": 11,
   "id": "4af04e64",
   "metadata": {},
   "outputs": [
    {
     "data": {
      "text/plain": [
       "11"
      ]
     },
     "execution_count": 11,
     "metadata": {},
     "output_type": "execute_result"
    }
   ],
   "source": [
    "len(text)"
   ]
  },
  {
   "cell_type": "code",
   "execution_count": 12,
   "id": "c8aae1fb",
   "metadata": {},
   "outputs": [],
   "source": [
    "listText[0]=\"T\""
   ]
  },
  {
   "cell_type": "code",
   "execution_count": 13,
   "id": "52fb1e31",
   "metadata": {},
   "outputs": [
    {
     "data": {
      "text/plain": [
       "['T', 'e', 'l', 'l', 'o', ' ', 'w', 'o', 'r', 'l', 'd']"
      ]
     },
     "execution_count": 13,
     "metadata": {},
     "output_type": "execute_result"
    }
   ],
   "source": [
    "listText"
   ]
  },
  {
   "cell_type": "code",
   "execution_count": 14,
   "id": "dbfd2cd9",
   "metadata": {},
   "outputs": [
    {
     "ename": "TypeError",
     "evalue": "'str' object does not support item assignment",
     "output_type": "error",
     "traceback": [
      "\u001b[1;31m---------------------------------------------------------------------------\u001b[0m",
      "\u001b[1;31mTypeError\u001b[0m                                 Traceback (most recent call last)",
      "Input \u001b[1;32mIn [14]\u001b[0m, in \u001b[0;36m<cell line: 1>\u001b[1;34m()\u001b[0m\n\u001b[1;32m----> 1\u001b[0m text[\u001b[38;5;241m0\u001b[39m]\u001b[38;5;241m=\u001b[39m\u001b[38;5;124m\"\u001b[39m\u001b[38;5;124mR\u001b[39m\u001b[38;5;124m\"\u001b[39m\n",
      "\u001b[1;31mTypeError\u001b[0m: 'str' object does not support item assignment"
     ]
    }
   ],
   "source": [
    "text[0]=\"R\""
   ]
  },
  {
   "cell_type": "code",
   "execution_count": null,
   "id": "2a0f813f",
   "metadata": {},
   "outputs": [],
   "source": [
    "#indexing and slicing\n",
    "listText[:2]=[10,20]"
   ]
  },
  {
   "cell_type": "code",
   "execution_count": null,
   "id": "1df0ba4a",
   "metadata": {},
   "outputs": [],
   "source": [
    "listText"
   ]
  },
  {
   "cell_type": "code",
   "execution_count": null,
   "id": "3e0341bf",
   "metadata": {},
   "outputs": [],
   "source": [
    "#operators"
   ]
  },
  {
   "cell_type": "code",
   "execution_count": null,
   "id": "1d9e4245",
   "metadata": {},
   "outputs": [],
   "source": [
    "list1 = [1,2,3]"
   ]
  },
  {
   "cell_type": "code",
   "execution_count": null,
   "id": "e1a35879",
   "metadata": {},
   "outputs": [],
   "source": [
    "list2 = [4,5,6]"
   ]
  },
  {
   "cell_type": "code",
   "execution_count": null,
   "id": "b14c312d",
   "metadata": {},
   "outputs": [],
   "source": [
    "list1 + list2"
   ]
  },
  {
   "cell_type": "code",
   "execution_count": null,
   "id": "dca15e3a",
   "metadata": {},
   "outputs": [],
   "source": [
    "list1 + \"amit\""
   ]
  },
  {
   "cell_type": "code",
   "execution_count": null,
   "id": "8844d32a",
   "metadata": {},
   "outputs": [],
   "source": [
    "list1 + [\"amit\"]"
   ]
  },
  {
   "cell_type": "code",
   "execution_count": 15,
   "id": "982ba217",
   "metadata": {},
   "outputs": [],
   "source": [
    "list3 = [7,8,9]"
   ]
  },
  {
   "cell_type": "code",
   "execution_count": 16,
   "id": "5229589e",
   "metadata": {},
   "outputs": [],
   "source": [
    "list3 *= 3"
   ]
  },
  {
   "cell_type": "code",
   "execution_count": 17,
   "id": "4743fc17",
   "metadata": {},
   "outputs": [
    {
     "data": {
      "text/plain": [
       "[7, 8, 9, 7, 8, 9, 7, 8, 9]"
      ]
     },
     "execution_count": 17,
     "metadata": {},
     "output_type": "execute_result"
    }
   ],
   "source": [
    "list3"
   ]
  },
  {
   "cell_type": "code",
   "execution_count": 18,
   "id": "fffb9b86",
   "metadata": {},
   "outputs": [],
   "source": [
    "#append method"
   ]
  },
  {
   "cell_type": "code",
   "execution_count": 19,
   "id": "cf4c90d8",
   "metadata": {},
   "outputs": [],
   "source": [
    "list4 = [1,2,3,4]"
   ]
  },
  {
   "cell_type": "code",
   "execution_count": 20,
   "id": "c13babe8",
   "metadata": {},
   "outputs": [],
   "source": [
    "list4.append(5)"
   ]
  },
  {
   "cell_type": "code",
   "execution_count": 21,
   "id": "843ea410",
   "metadata": {},
   "outputs": [
    {
     "data": {
      "text/plain": [
       "[1, 2, 3, 4, 5]"
      ]
     },
     "execution_count": 21,
     "metadata": {},
     "output_type": "execute_result"
    }
   ],
   "source": [
    "list4"
   ]
  },
  {
   "cell_type": "code",
   "execution_count": 22,
   "id": "ee7e5dd7",
   "metadata": {},
   "outputs": [],
   "source": [
    "list4.append(\"amit\")"
   ]
  },
  {
   "cell_type": "code",
   "execution_count": 23,
   "id": "27c09c52",
   "metadata": {},
   "outputs": [
    {
     "data": {
      "text/plain": [
       "[1, 2, 3, 4, 5, 'amit']"
      ]
     },
     "execution_count": 23,
     "metadata": {},
     "output_type": "execute_result"
    }
   ],
   "source": [
    "list4"
   ]
  },
  {
   "cell_type": "code",
   "execution_count": 24,
   "id": "79d4bac3",
   "metadata": {},
   "outputs": [],
   "source": [
    "#pop method"
   ]
  },
  {
   "cell_type": "code",
   "execution_count": 25,
   "id": "a1465b06",
   "metadata": {},
   "outputs": [
    {
     "data": {
      "text/plain": [
       "'amit'"
      ]
     },
     "execution_count": 25,
     "metadata": {},
     "output_type": "execute_result"
    }
   ],
   "source": [
    "list4.pop()"
   ]
  },
  {
   "cell_type": "code",
   "execution_count": 26,
   "id": "a1fc91b0",
   "metadata": {},
   "outputs": [
    {
     "data": {
      "text/plain": [
       "[1, 2, 3, 4, 5]"
      ]
     },
     "execution_count": 26,
     "metadata": {},
     "output_type": "execute_result"
    }
   ],
   "source": [
    "list4"
   ]
  },
  {
   "cell_type": "code",
   "execution_count": 27,
   "id": "9b104f2e",
   "metadata": {},
   "outputs": [
    {
     "data": {
      "text/plain": [
       "2"
      ]
     },
     "execution_count": 27,
     "metadata": {},
     "output_type": "execute_result"
    }
   ],
   "source": [
    "list4.pop(1)"
   ]
  },
  {
   "cell_type": "code",
   "execution_count": 28,
   "id": "28cbcffe",
   "metadata": {},
   "outputs": [
    {
     "data": {
      "text/plain": [
       "[1, 3, 4, 5]"
      ]
     },
     "execution_count": 28,
     "metadata": {},
     "output_type": "execute_result"
    }
   ],
   "source": [
    "list4"
   ]
  },
  {
   "cell_type": "code",
   "execution_count": 29,
   "id": "8b570d2f",
   "metadata": {},
   "outputs": [
    {
     "data": {
      "text/plain": [
       "[23, 4, 5, 6, 8, 9, 10]"
      ]
     },
     "execution_count": 29,
     "metadata": {},
     "output_type": "execute_result"
    }
   ],
   "source": [
    "#del Keyword\n",
    "list5 = [23,4,5,6,8,9,10]\n",
    "list5"
   ]
  },
  {
   "cell_type": "code",
   "execution_count": 30,
   "id": "6f28d12d",
   "metadata": {},
   "outputs": [],
   "source": [
    "del list5[4]"
   ]
  },
  {
   "cell_type": "code",
   "execution_count": 31,
   "id": "a890a257",
   "metadata": {},
   "outputs": [
    {
     "data": {
      "text/plain": [
       "[23, 4, 5, 6, 9, 10]"
      ]
     },
     "execution_count": 31,
     "metadata": {},
     "output_type": "execute_result"
    }
   ],
   "source": [
    "list5"
   ]
  },
  {
   "cell_type": "code",
   "execution_count": 32,
   "id": "398ce40f",
   "metadata": {},
   "outputs": [],
   "source": [
    "del list5[2:4]"
   ]
  },
  {
   "cell_type": "code",
   "execution_count": 33,
   "id": "9592f527",
   "metadata": {},
   "outputs": [
    {
     "data": {
      "text/plain": [
       "[23, 4, 9, 10]"
      ]
     },
     "execution_count": 33,
     "metadata": {},
     "output_type": "execute_result"
    }
   ],
   "source": [
    "list5"
   ]
  },
  {
   "cell_type": "code",
   "execution_count": 34,
   "id": "f06e25fd",
   "metadata": {},
   "outputs": [],
   "source": [
    "del list5"
   ]
  },
  {
   "cell_type": "code",
   "execution_count": 35,
   "id": "0433ade1",
   "metadata": {},
   "outputs": [
    {
     "ename": "NameError",
     "evalue": "name 'list5' is not defined",
     "output_type": "error",
     "traceback": [
      "\u001b[1;31m---------------------------------------------------------------------------\u001b[0m",
      "\u001b[1;31mNameError\u001b[0m                                 Traceback (most recent call last)",
      "Input \u001b[1;32mIn [35]\u001b[0m, in \u001b[0;36m<cell line: 1>\u001b[1;34m()\u001b[0m\n\u001b[1;32m----> 1\u001b[0m \u001b[43mlist5\u001b[49m\n",
      "\u001b[1;31mNameError\u001b[0m: name 'list5' is not defined"
     ]
    }
   ],
   "source": [
    "list5"
   ]
  },
  {
   "cell_type": "code",
   "execution_count": 36,
   "id": "4cd67dff",
   "metadata": {},
   "outputs": [
    {
     "data": {
      "text/plain": [
       "4"
      ]
     },
     "execution_count": 36,
     "metadata": {},
     "output_type": "execute_result"
    }
   ],
   "source": [
    "list4[2]"
   ]
  },
  {
   "cell_type": "code",
   "execution_count": 37,
   "id": "50554899",
   "metadata": {},
   "outputs": [
    {
     "ename": "TypeError",
     "evalue": "list indices must be integers or slices, not float",
     "output_type": "error",
     "traceback": [
      "\u001b[1;31m---------------------------------------------------------------------------\u001b[0m",
      "\u001b[1;31mTypeError\u001b[0m                                 Traceback (most recent call last)",
      "Input \u001b[1;32mIn [37]\u001b[0m, in \u001b[0;36m<cell line: 1>\u001b[1;34m()\u001b[0m\n\u001b[1;32m----> 1\u001b[0m \u001b[43mlist4\u001b[49m\u001b[43m[\u001b[49m\u001b[38;5;241;43m3.2\u001b[39;49m\u001b[43m]\u001b[49m\n",
      "\u001b[1;31mTypeError\u001b[0m: list indices must be integers or slices, not float"
     ]
    }
   ],
   "source": [
    "list4[3.2]"
   ]
  },
  {
   "cell_type": "code",
   "execution_count": 38,
   "id": "4a51df3c",
   "metadata": {},
   "outputs": [],
   "source": [
    "#Sort methods"
   ]
  },
  {
   "cell_type": "code",
   "execution_count": 39,
   "id": "f75484c4",
   "metadata": {},
   "outputs": [],
   "source": [
    "list6 = [345,23,1,56,4.5,14]"
   ]
  },
  {
   "cell_type": "code",
   "execution_count": 40,
   "id": "784ed224",
   "metadata": {},
   "outputs": [
    {
     "data": {
      "text/plain": [
       "[345, 23, 1, 56, 4.5, 14]"
      ]
     },
     "execution_count": 40,
     "metadata": {},
     "output_type": "execute_result"
    }
   ],
   "source": [
    "list6"
   ]
  },
  {
   "cell_type": "code",
   "execution_count": 41,
   "id": "1b43fae4",
   "metadata": {},
   "outputs": [
    {
     "data": {
      "text/plain": [
       "[1, 4.5, 14, 23, 56, 345]"
      ]
     },
     "execution_count": 41,
     "metadata": {},
     "output_type": "execute_result"
    }
   ],
   "source": [
    "list6.sort()\n",
    "list6"
   ]
  },
  {
   "cell_type": "code",
   "execution_count": 42,
   "id": "d9652a91",
   "metadata": {},
   "outputs": [],
   "source": [
    "list6.sort(reverse = True)"
   ]
  },
  {
   "cell_type": "code",
   "execution_count": 43,
   "id": "edb5b2f4",
   "metadata": {},
   "outputs": [
    {
     "data": {
      "text/plain": [
       "[345, 56, 23, 14, 4.5, 1]"
      ]
     },
     "execution_count": 43,
     "metadata": {},
     "output_type": "execute_result"
    }
   ],
   "source": [
    "list6"
   ]
  },
  {
   "cell_type": "code",
   "execution_count": 44,
   "id": "52c2b4a0",
   "metadata": {},
   "outputs": [],
   "source": [
    "list7 = [\"BMW\",\"Audi\", \"Honda\", \"Kio\"]"
   ]
  },
  {
   "cell_type": "code",
   "execution_count": 45,
   "id": "9474d9a1",
   "metadata": {},
   "outputs": [
    {
     "data": {
      "text/plain": [
       "['Kio', 'Honda', 'BMW', 'Audi']"
      ]
     },
     "execution_count": 45,
     "metadata": {},
     "output_type": "execute_result"
    }
   ],
   "source": [
    "list7.sort(reverse = True)\n",
    "list7"
   ]
  },
  {
   "cell_type": "code",
   "execution_count": 46,
   "id": "d7beb66b",
   "metadata": {},
   "outputs": [],
   "source": [
    "#NEsted List\n",
    "list1 = [1,3,5]"
   ]
  },
  {
   "cell_type": "code",
   "execution_count": 47,
   "id": "1c39a869",
   "metadata": {},
   "outputs": [],
   "source": [
    "list2 = [5,6]"
   ]
  },
  {
   "cell_type": "code",
   "execution_count": 48,
   "id": "50b3a8a5",
   "metadata": {},
   "outputs": [],
   "source": [
    "list3 = [5, 7, 8, 0]"
   ]
  },
  {
   "cell_type": "code",
   "execution_count": 51,
   "id": "e2aeadf5",
   "metadata": {},
   "outputs": [],
   "source": [
    "newList = [list1, list2, list3]"
   ]
  },
  {
   "cell_type": "code",
   "execution_count": 52,
   "id": "2aab26ec",
   "metadata": {},
   "outputs": [
    {
     "data": {
      "text/plain": [
       "[[1, 3, 5], [5, 6], [5, 7, 8, 0]]"
      ]
     },
     "execution_count": 52,
     "metadata": {},
     "output_type": "execute_result"
    }
   ],
   "source": [
    "newList"
   ]
  },
  {
   "cell_type": "code",
   "execution_count": 53,
   "id": "8ae33cc9",
   "metadata": {},
   "outputs": [
    {
     "data": {
      "text/plain": [
       "7"
      ]
     },
     "execution_count": 53,
     "metadata": {},
     "output_type": "execute_result"
    }
   ],
   "source": [
    "newList[2][1]"
   ]
  },
  {
   "cell_type": "code",
   "execution_count": null,
   "id": "ce1fc90a",
   "metadata": {},
   "outputs": [],
   "source": []
  }
 ],
 "metadata": {
  "kernelspec": {
   "display_name": "Python 3 (ipykernel)",
   "language": "python",
   "name": "python3"
  },
  "language_info": {
   "codemirror_mode": {
    "name": "ipython",
    "version": 3
   },
   "file_extension": ".py",
   "mimetype": "text/x-python",
   "name": "python",
   "nbconvert_exporter": "python",
   "pygments_lexer": "ipython3",
   "version": "3.9.12"
  }
 },
 "nbformat": 4,
 "nbformat_minor": 5
}
