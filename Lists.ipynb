{
 "cells": [
  {
   "cell_type": "code",
   "execution_count": 1,
   "id": "aa946cd4",
   "metadata": {},
   "outputs": [],
   "source": [
    "list1 = []"
   ]
  },
  {
   "cell_type": "code",
   "execution_count": 2,
   "id": "6bec81a6",
   "metadata": {},
   "outputs": [
    {
     "data": {
      "text/plain": [
       "list"
      ]
     },
     "execution_count": 2,
     "metadata": {},
     "output_type": "execute_result"
    }
   ],
   "source": [
    "type(list1)"
   ]
  },
  {
   "cell_type": "code",
   "execution_count": 3,
   "id": "8a64b2ee",
   "metadata": {},
   "outputs": [],
   "source": [
    "list2 = list()"
   ]
  },
  {
   "cell_type": "code",
   "execution_count": 4,
   "id": "1a0597eb",
   "metadata": {},
   "outputs": [
    {
     "data": {
      "text/plain": [
       "list"
      ]
     },
     "execution_count": 4,
     "metadata": {},
     "output_type": "execute_result"
    }
   ],
   "source": [
    "type(list2)"
   ]
  },
  {
   "cell_type": "code",
   "execution_count": 5,
   "id": "510a334a",
   "metadata": {},
   "outputs": [],
   "source": [
    "listElement = [2,4,5.6,\"amit\",[34,6.7,'a'],[4,5]]"
   ]
  },
  {
   "cell_type": "code",
   "execution_count": 6,
   "id": "0edb5ce9",
   "metadata": {},
   "outputs": [
    {
     "data": {
      "text/plain": [
       "6"
      ]
     },
     "execution_count": 6,
     "metadata": {},
     "output_type": "execute_result"
    }
   ],
   "source": [
    "len(listElement)"
   ]
  },
  {
   "cell_type": "code",
   "execution_count": 7,
   "id": "bb466830",
   "metadata": {},
   "outputs": [
    {
     "data": {
      "text/plain": [
       "3"
      ]
     },
     "execution_count": 7,
     "metadata": {},
     "output_type": "execute_result"
    }
   ],
   "source": [
    "len(listElement[4])"
   ]
  },
  {
   "cell_type": "code",
   "execution_count": 8,
   "id": "8fd615d4",
   "metadata": {},
   "outputs": [],
   "source": [
    "text = \"hello world\""
   ]
  },
  {
   "cell_type": "code",
   "execution_count": 9,
   "id": "359b6f50",
   "metadata": {},
   "outputs": [],
   "source": [
    "listText = list(text)"
   ]
  },
  {
   "cell_type": "code",
   "execution_count": 10,
   "id": "9973f218",
   "metadata": {},
   "outputs": [
    {
     "data": {
      "text/plain": [
       "11"
      ]
     },
     "execution_count": 10,
     "metadata": {},
     "output_type": "execute_result"
    }
   ],
   "source": [
    "len(listText)\n"
   ]
  },
  {
   "cell_type": "code",
   "execution_count": 11,
   "id": "dcf2f0c8",
   "metadata": {},
   "outputs": [
    {
     "data": {
      "text/plain": [
       "11"
      ]
     },
     "execution_count": 11,
     "metadata": {},
     "output_type": "execute_result"
    }
   ],
   "source": [
    "len(text)"
   ]
  },
  {
   "cell_type": "code",
   "execution_count": 12,
   "id": "8675a8cc",
   "metadata": {},
   "outputs": [],
   "source": [
    "listText[0]=\"T\""
   ]
  },
  {
   "cell_type": "code",
   "execution_count": 13,
   "id": "cc081b69",
   "metadata": {},
   "outputs": [
    {
     "data": {
      "text/plain": [
       "['T', 'e', 'l', 'l', 'o', ' ', 'w', 'o', 'r', 'l', 'd']"
      ]
     },
     "execution_count": 13,
     "metadata": {},
     "output_type": "execute_result"
    }
   ],
   "source": [
    "listText"
   ]
  },
  {
   "cell_type": "code",
   "execution_count": 14,
   "id": "8616bc7c",
   "metadata": {},
   "outputs": [
    {
     "ename": "TypeError",
     "evalue": "'str' object does not support item assignment",
     "output_type": "error",
     "traceback": [
      "\u001b[1;31m---------------------------------------------------------------------------\u001b[0m",
      "\u001b[1;31mTypeError\u001b[0m                                 Traceback (most recent call last)",
      "Input \u001b[1;32mIn [14]\u001b[0m, in \u001b[0;36m<cell line: 1>\u001b[1;34m()\u001b[0m\n\u001b[1;32m----> 1\u001b[0m text[\u001b[38;5;241m0\u001b[39m]\u001b[38;5;241m=\u001b[39m\u001b[38;5;124m\"\u001b[39m\u001b[38;5;124mR\u001b[39m\u001b[38;5;124m\"\u001b[39m\n",
      "\u001b[1;31mTypeError\u001b[0m: 'str' object does not support item assignment"
     ]
    }
   ],
   "source": [
    "text[0]=\"R\""
   ]
  },
  {
   "cell_type": "code",
   "execution_count": null,
   "id": "8304e68f",
   "metadata": {},
   "outputs": [],
   "source": [
    "#indexing and slicing\n",
    "listText[:2]=[10,20]"
   ]
  },
  {
   "cell_type": "code",
   "execution_count": null,
   "id": "8b5d7a78",
   "metadata": {},
   "outputs": [],
   "source": [
    "listText"
   ]
  },
  {
   "cell_type": "code",
   "execution_count": null,
   "id": "4eac5608",
   "metadata": {},
   "outputs": [],
   "source": [
    "#operators"
   ]
  },
  {
   "cell_type": "code",
   "execution_count": null,
   "id": "63128068",
   "metadata": {},
   "outputs": [],
   "source": [
    "list1 = [1,2,3]"
   ]
  },
  {
   "cell_type": "code",
   "execution_count": null,
   "id": "9aad2f3c",
   "metadata": {},
   "outputs": [],
   "source": [
    "list2 = [4,5,6]"
   ]
  },
  {
   "cell_type": "code",
   "execution_count": null,
   "id": "98c5c87d",
   "metadata": {},
   "outputs": [],
   "source": [
    "list1 + list2"
   ]
  },
  {
   "cell_type": "code",
   "execution_count": null,
   "id": "3c12c9fd",
   "metadata": {},
   "outputs": [],
   "source": [
    "list1 + \"amit\""
   ]
  },
  {
   "cell_type": "code",
   "execution_count": null,
   "id": "d930e901",
   "metadata": {},
   "outputs": [],
   "source": [
    "list1 + [\"amit\"]"
   ]
  },
  {
   "cell_type": "code",
   "execution_count": 15,
   "id": "17c956a1",
   "metadata": {},
   "outputs": [],
   "source": [
    "list3 = [7,8,9]"
   ]
  },
  {
   "cell_type": "code",
   "execution_count": 16,
   "id": "5ae914e3",
   "metadata": {},
   "outputs": [],
   "source": [
    "list3 *= 3"
   ]
  },
  {
   "cell_type": "code",
   "execution_count": 17,
   "id": "76e6df53",
   "metadata": {},
   "outputs": [
    {
     "data": {
      "text/plain": [
       "[7, 8, 9, 7, 8, 9, 7, 8, 9]"
      ]
     },
     "execution_count": 17,
     "metadata": {},
     "output_type": "execute_result"
    }
   ],
   "source": [
    "list3"
   ]
  },
  {
   "cell_type": "code",
   "execution_count": 18,
   "id": "a2cd195e",
   "metadata": {},
   "outputs": [],
   "source": [
    "#append method"
   ]
  },
  {
   "cell_type": "code",
   "execution_count": 19,
   "id": "d34638a4",
   "metadata": {},
   "outputs": [],
   "source": [
    "list4 = [1,2,3,4]"
   ]
  },
  {
   "cell_type": "code",
   "execution_count": 20,
   "id": "f0549970",
   "metadata": {},
   "outputs": [],
   "source": [
    "list4.append(5)"
   ]
  },
  {
   "cell_type": "code",
   "execution_count": 21,
   "id": "e959e154",
   "metadata": {},
   "outputs": [
    {
     "data": {
      "text/plain": [
       "[1, 2, 3, 4, 5]"
      ]
     },
     "execution_count": 21,
     "metadata": {},
     "output_type": "execute_result"
    }
   ],
   "source": [
    "list4"
   ]
  },
  {
   "cell_type": "code",
   "execution_count": 22,
   "id": "39d1ffa1",
   "metadata": {},
   "outputs": [],
   "source": [
    "list4.append(\"amit\")"
   ]
  },
  {
   "cell_type": "code",
   "execution_count": 23,
   "id": "93e79435",
   "metadata": {},
   "outputs": [
    {
     "data": {
      "text/plain": [
       "[1, 2, 3, 4, 5, 'amit']"
      ]
     },
     "execution_count": 23,
     "metadata": {},
     "output_type": "execute_result"
    }
   ],
   "source": [
    "list4"
   ]
  },
  {
   "cell_type": "code",
   "execution_count": 24,
   "id": "0d0dd886",
   "metadata": {},
   "outputs": [],
   "source": [
    "#pop method"
   ]
  },
  {
   "cell_type": "code",
   "execution_count": 25,
   "id": "03817e84",
   "metadata": {},
   "outputs": [
    {
     "data": {
      "text/plain": [
       "'amit'"
      ]
     },
     "execution_count": 25,
     "metadata": {},
     "output_type": "execute_result"
    }
   ],
   "source": [
    "list4.pop()"
   ]
  },
  {
   "cell_type": "code",
   "execution_count": 26,
   "id": "128ba7bc",
   "metadata": {},
   "outputs": [
    {
     "data": {
      "text/plain": [
       "[1, 2, 3, 4, 5]"
      ]
     },
     "execution_count": 26,
     "metadata": {},
     "output_type": "execute_result"
    }
   ],
   "source": [
    "list4"
   ]
  },
  {
   "cell_type": "code",
   "execution_count": 27,
   "id": "043c62f3",
   "metadata": {},
   "outputs": [
    {
     "data": {
      "text/plain": [
       "2"
      ]
     },
     "execution_count": 27,
     "metadata": {},
     "output_type": "execute_result"
    }
   ],
   "source": [
    "list4.pop(1)"
   ]
  },
  {
   "cell_type": "code",
   "execution_count": 28,
   "id": "8809a7fd",
   "metadata": {},
   "outputs": [
    {
     "data": {
      "text/plain": [
       "[1, 3, 4, 5]"
      ]
     },
     "execution_count": 28,
     "metadata": {},
     "output_type": "execute_result"
    }
   ],
   "source": [
    "list4"
   ]
  },
  {
   "cell_type": "code",
   "execution_count": 29,
   "id": "2f9c0a1d",
   "metadata": {},
   "outputs": [
    {
     "data": {
      "text/plain": [
       "[23, 4, 5, 6, 8, 9, 10]"
      ]
     },
     "execution_count": 29,
     "metadata": {},
     "output_type": "execute_result"
    }
   ],
   "source": [
    "#del Keyword\n",
    "list5 = [23,4,5,6,8,9,10]\n",
    "list5"
   ]
  },
  {
   "cell_type": "code",
   "execution_count": 30,
   "id": "690cd562",
   "metadata": {},
   "outputs": [],
   "source": [
    "del list5[4]"
   ]
  },
  {
   "cell_type": "code",
   "execution_count": 31,
   "id": "43d09a27",
   "metadata": {},
   "outputs": [
    {
     "data": {
      "text/plain": [
       "[23, 4, 5, 6, 9, 10]"
      ]
     },
     "execution_count": 31,
     "metadata": {},
     "output_type": "execute_result"
    }
   ],
   "source": [
    "list5"
   ]
  },
  {
   "cell_type": "code",
   "execution_count": 32,
   "id": "4981bd2c",
   "metadata": {},
   "outputs": [],
   "source": [
    "del list5[2:4]"
   ]
  },
  {
   "cell_type": "code",
   "execution_count": 33,
   "id": "92a6c236",
   "metadata": {},
   "outputs": [
    {
     "data": {
      "text/plain": [
       "[23, 4, 9, 10]"
      ]
     },
     "execution_count": 33,
     "metadata": {},
     "output_type": "execute_result"
    }
   ],
   "source": [
    "list5"
   ]
  },
  {
   "cell_type": "code",
   "execution_count": 34,
   "id": "53608b94",
   "metadata": {},
   "outputs": [],
   "source": [
    "del list5"
   ]
  },
  {
   "cell_type": "code",
   "execution_count": 35,
   "id": "69e10ad9",
   "metadata": {},
   "outputs": [
    {
     "ename": "NameError",
     "evalue": "name 'list5' is not defined",
     "output_type": "error",
     "traceback": [
      "\u001b[1;31m---------------------------------------------------------------------------\u001b[0m",
      "\u001b[1;31mNameError\u001b[0m                                 Traceback (most recent call last)",
      "Input \u001b[1;32mIn [35]\u001b[0m, in \u001b[0;36m<cell line: 1>\u001b[1;34m()\u001b[0m\n\u001b[1;32m----> 1\u001b[0m \u001b[43mlist5\u001b[49m\n",
      "\u001b[1;31mNameError\u001b[0m: name 'list5' is not defined"
     ]
    }
   ],
   "source": [
    "list5"
   ]
  },
  {
   "cell_type": "code",
   "execution_count": 36,
   "id": "bdaa14e9",
   "metadata": {},
   "outputs": [
    {
     "data": {
      "text/plain": [
       "4"
      ]
     },
     "execution_count": 36,
     "metadata": {},
     "output_type": "execute_result"
    }
   ],
   "source": [
    "list4[2]"
   ]
  },
  {
   "cell_type": "code",
   "execution_count": 37,
   "id": "267cb7a5",
   "metadata": {},
   "outputs": [
    {
     "ename": "TypeError",
     "evalue": "list indices must be integers or slices, not float",
     "output_type": "error",
     "traceback": [
      "\u001b[1;31m---------------------------------------------------------------------------\u001b[0m",
      "\u001b[1;31mTypeError\u001b[0m                                 Traceback (most recent call last)",
      "Input \u001b[1;32mIn [37]\u001b[0m, in \u001b[0;36m<cell line: 1>\u001b[1;34m()\u001b[0m\n\u001b[1;32m----> 1\u001b[0m \u001b[43mlist4\u001b[49m\u001b[43m[\u001b[49m\u001b[38;5;241;43m3.2\u001b[39;49m\u001b[43m]\u001b[49m\n",
      "\u001b[1;31mTypeError\u001b[0m: list indices must be integers or slices, not float"
     ]
    }
   ],
   "source": [
    "list4[3.2]"
   ]
  },
  {
   "cell_type": "code",
   "execution_count": 38,
   "id": "df93a023",
   "metadata": {},
   "outputs": [],
   "source": [
    "#Sort methods"
   ]
  },
  {
   "cell_type": "code",
   "execution_count": 39,
   "id": "d1135a63",
   "metadata": {},
   "outputs": [],
   "source": [
    "list6 = [345,23,1,56,4.5,14]"
   ]
  },
  {
   "cell_type": "code",
   "execution_count": 40,
   "id": "289ff901",
   "metadata": {},
   "outputs": [
    {
     "data": {
      "text/plain": [
       "[345, 23, 1, 56, 4.5, 14]"
      ]
     },
     "execution_count": 40,
     "metadata": {},
     "output_type": "execute_result"
    }
   ],
   "source": [
    "list6"
   ]
  },
  {
   "cell_type": "code",
   "execution_count": 41,
   "id": "f37210f4",
   "metadata": {},
   "outputs": [
    {
     "data": {
      "text/plain": [
       "[1, 4.5, 14, 23, 56, 345]"
      ]
     },
     "execution_count": 41,
     "metadata": {},
     "output_type": "execute_result"
    }
   ],
   "source": [
    "list6.sort()\n",
    "list6"
   ]
  },
  {
   "cell_type": "code",
   "execution_count": 42,
   "id": "9c01596f",
   "metadata": {},
   "outputs": [],
   "source": [
    "list6.sort(reverse = True)"
   ]
  },
  {
   "cell_type": "code",
   "execution_count": 43,
   "id": "936a11d1",
   "metadata": {},
   "outputs": [
    {
     "data": {
      "text/plain": [
       "[345, 56, 23, 14, 4.5, 1]"
      ]
     },
     "execution_count": 43,
     "metadata": {},
     "output_type": "execute_result"
    }
   ],
   "source": [
    "list6"
   ]
  },
  {
   "cell_type": "code",
   "execution_count": 44,
   "id": "0b343dc6",
   "metadata": {},
   "outputs": [],
   "source": [
    "list7 = [\"BMW\",\"Audi\", \"Honda\", \"Kio\"]"
   ]
  },
  {
   "cell_type": "code",
   "execution_count": 45,
   "id": "76b6012d",
   "metadata": {},
   "outputs": [
    {
     "data": {
      "text/plain": [
       "['Kio', 'Honda', 'BMW', 'Audi']"
      ]
     },
     "execution_count": 45,
     "metadata": {},
     "output_type": "execute_result"
    }
   ],
   "source": [
    "list7.sort(reverse = True)\n",
    "list7"
   ]
  },
  {
   "cell_type": "code",
   "execution_count": 46,
   "id": "fae4056e",
   "metadata": {},
   "outputs": [],
   "source": [
    "#NEsted List\n",
    "list1 = [1,3,5]"
   ]
  },
  {
   "cell_type": "code",
   "execution_count": 47,
   "id": "227b3c7e",
   "metadata": {},
   "outputs": [],
   "source": [
    "list2 = [5,6]"
   ]
  },
  {
   "cell_type": "code",
   "execution_count": 48,
   "id": "2fcd5b33",
   "metadata": {},
   "outputs": [],
   "source": [
    "list3 = [5, 7, 8, 0]"
   ]
  },
  {
   "cell_type": "code",
   "execution_count": 51,
   "id": "58677ba6",
   "metadata": {},
   "outputs": [],
   "source": [
    "newList = [list1, list2, list3]"
   ]
  },
  {
   "cell_type": "code",
   "execution_count": 52,
   "id": "dcf99828",
   "metadata": {},
   "outputs": [
    {
     "data": {
      "text/plain": [
       "[[1, 3, 5], [5, 6], [5, 7, 8, 0]]"
      ]
     },
     "execution_count": 52,
     "metadata": {},
     "output_type": "execute_result"
    }
   ],
   "source": [
    "newList"
   ]
  },
  {
   "cell_type": "code",
   "execution_count": 53,
   "id": "027d1f67",
   "metadata": {},
   "outputs": [
    {
     "data": {
      "text/plain": [
       "7"
      ]
     },
     "execution_count": 53,
     "metadata": {},
     "output_type": "execute_result"
    }
   ],
   "source": [
    "newList[2][1]"
   ]
  },
  {
   "cell_type": "code",
   "execution_count": null,
   "id": "f32e2ea3",
   "metadata": {},
   "outputs": [],
   "source": []
  }
 ],
 "metadata": {
  "kernelspec": {
   "display_name": "Python 3 (ipykernel)",
   "language": "python",
   "name": "python3"
  },
  "language_info": {
   "codemirror_mode": {
    "name": "ipython",
    "version": 3
   },
   "file_extension": ".py",
   "mimetype": "text/x-python",
   "name": "python",
   "nbconvert_exporter": "python",
   "pygments_lexer": "ipython3",
   "version": "3.9.12"
  }
 },
 "nbformat": 4,
 "nbformat_minor": 5
}
