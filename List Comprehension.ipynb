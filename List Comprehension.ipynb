{
 "cells": [
  {
   "cell_type": "code",
   "execution_count": 4,
   "id": "78e47ad1",
   "metadata": {},
   "outputs": [
    {
     "name": "stdout",
     "output_type": "stream",
     "text": [
      "[1, 2, 3, 4, 5, 6]\n"
     ]
    }
   ],
   "source": [
    "#List Comprehensions\n",
    "\n",
    "#ex1 - normal way\n",
    "list1 = [1,2,3,4,5,6]\n",
    "list2 = list()\n",
    "\n",
    "for i in list1:\n",
    "    list2.append(i)\n",
    "    \n",
    "print (list2)\n"
   ]
  },
  {
   "cell_type": "code",
   "execution_count": 6,
   "id": "36c31dab",
   "metadata": {},
   "outputs": [
    {
     "name": "stdout",
     "output_type": "stream",
     "text": [
      "[1, 2, 3, 4, 5, 6]\n"
     ]
    }
   ],
   "source": [
    "#ex1 - list comprehension\n",
    "list1 = [1,2,3,4,5,6]\n",
    "list2 = [i for i in list1]\n",
    "print (list2)"
   ]
  },
  {
   "cell_type": "code",
   "execution_count": 8,
   "id": "2b9ad6c9",
   "metadata": {},
   "outputs": [
    {
     "name": "stdout",
     "output_type": "stream",
     "text": [
      "[0, 1, 2, 3, 5, 6, 8, 9]\n"
     ]
    }
   ],
   "source": [
    "#ex2 \n",
    "list1 = list(range(0,10))\n",
    "\n",
    "list2 = [i for i in list1 if not(i==4 or i==7)]\n",
    "print (list2)"
   ]
  },
  {
   "cell_type": "code",
   "execution_count": 9,
   "id": "1e9a6705",
   "metadata": {},
   "outputs": [
    {
     "name": "stdout",
     "output_type": "stream",
     "text": [
      "['8', '9', '1', '2', '1', '2', '3']\n"
     ]
    }
   ],
   "source": [
    "#ex3\n",
    "my_string = \"My mobile number is 8912123\"\n",
    "list3 = [n for n in my_string if n.isdigit()]\n",
    "print(list3)"
   ]
  },
  {
   "cell_type": "code",
   "execution_count": 10,
   "id": "c4734279",
   "metadata": {},
   "outputs": [],
   "source": [
    "#ex 4\n",
    "my_string = \"This is SamPLe TeXt\"\n",
    "list4 = [letter for letter in my_string if letter.isupper()]"
   ]
  },
  {
   "cell_type": "code",
   "execution_count": 11,
   "id": "2007283a",
   "metadata": {},
   "outputs": [
    {
     "data": {
      "text/plain": [
       "['T', 'S', 'P', 'L', 'T', 'X']"
      ]
     },
     "execution_count": 11,
     "metadata": {},
     "output_type": "execute_result"
    }
   ],
   "source": [
    "list4"
   ]
  },
  {
   "cell_type": "code",
   "execution_count": 13,
   "id": "e636ef87",
   "metadata": {},
   "outputs": [
    {
     "name": "stdout",
     "output_type": "stream",
     "text": [
      "[4, 6, 84, 46, 108, 14]\n"
     ]
    }
   ],
   "source": [
    "#ex 5\n",
    "list1 = [2,3,42,23,54,7]\n",
    "list2 = [i*2 for i in list1]\n",
    "print (list2)"
   ]
  },
  {
   "cell_type": "code",
   "execution_count": 15,
   "id": "712fe366",
   "metadata": {},
   "outputs": [
    {
     "name": "stdout",
     "output_type": "stream",
     "text": [
      "[2, 12, 30, 56]\n"
     ]
    }
   ],
   "source": [
    "#ex 6\n",
    "list1 = [(1,2),(3,4),(5,6),(7,8)]\n",
    "list2 = [i*j for i,j in list1]\n",
    "print (list2)"
   ]
  },
  {
   "cell_type": "code",
   "execution_count": 19,
   "id": "26e6798f",
   "metadata": {},
   "outputs": [
    {
     "name": "stdout",
     "output_type": "stream",
     "text": [
      "[1, 2, 3, 4, 5, 6, 7, 8, 9, 10, 11, 12, 13, 14, 15, 16, 17, 18, 19, 20]\n"
     ]
    }
   ],
   "source": [
    "#ex 7\n",
    "#Normal Way\n",
    "list1 = [[1,2,3],[4,5,6,7,8],[9,10,11],[12,13],[14,15,16,17,18,19,20]]\n",
    "list2 = list()\n",
    "\n",
    "for i in list1:\n",
    "    for x in i:\n",
    "        list2.append(x)\n",
    "\n",
    "print(list2)"
   ]
  },
  {
   "cell_type": "code",
   "execution_count": 21,
   "id": "9343b050",
   "metadata": {},
   "outputs": [
    {
     "name": "stdout",
     "output_type": "stream",
     "text": [
      "[1, 2, 3, 4, 5, 6, 7, 8, 9, 10, 11, 12, 13, 14, 15, 16, 17, 18, 19, 20]\n"
     ]
    }
   ],
   "source": [
    "#list comprehension\n",
    "list1 = [[1,2,3],[4,5,6,7,8],[9,10,11],[12,13],[14,15,16,17,18,19,20]]\n",
    "list2 = [x for i in list1 for x in i]\n",
    "print (list2)"
   ]
  },
  {
   "cell_type": "code",
   "execution_count": 37,
   "id": "79dade2f",
   "metadata": {},
   "outputs": [
    {
     "name": "stdout",
     "output_type": "stream",
     "text": [
      "3\n",
      "1\n",
      "7\n",
      "2\n",
      "1 7\n",
      "2\n",
      "3 4\n",
      "4\n",
      "1 2 3 \n",
      "4\n",
      "3 4 5 6\n",
      "8\n",
      "3 4 5 6 7 8 9 0\n",
      "[{'7'}, {' ', '4', '3'}, {'4', '6', '3', ' ', '5'}]\n",
      "[{' ', '7', '1'}, {' ', '2', '3', '1'}, {'4', '7', '8', '6', '3', '0', ' ', '5', '9'}]\n",
      "True\n",
      "False\n",
      "True\n"
     ]
    }
   ],
   "source": [
    "T = int(input())\n",
    "listA = list()\n",
    "listB = list()\n",
    "\n",
    "for j in range(T):\n",
    "    A = int(input())\n",
    "    setA = set(input())\n",
    "    listA.append(setA)\n",
    "    B = int(input())\n",
    "    setB = set(input())\n",
    "    listB.append(setB)\n",
    "\n",
    "for i in range(T):\n",
    "    if (listA[i] <= listB[i]):\n",
    "        print (True)\n",
    "    else:\n",
    "        print (False)"
   ]
  },
  {
   "cell_type": "code",
   "execution_count": null,
   "id": "5c7327c3",
   "metadata": {},
   "outputs": [],
   "source": []
  },
  {
   "cell_type": "code",
   "execution_count": null,
   "id": "c0bcbffb",
   "metadata": {},
   "outputs": [],
   "source": []
  }
 ],
 "metadata": {
  "kernelspec": {
   "display_name": "Python 3 (ipykernel)",
   "language": "python",
   "name": "python3"
  },
  "language_info": {
   "codemirror_mode": {
    "name": "ipython",
    "version": 3
   },
   "file_extension": ".py",
   "mimetype": "text/x-python",
   "name": "python",
   "nbconvert_exporter": "python",
   "pygments_lexer": "ipython3",
   "version": "3.9.12"
  }
 },
 "nbformat": 4,
 "nbformat_minor": 5
}
